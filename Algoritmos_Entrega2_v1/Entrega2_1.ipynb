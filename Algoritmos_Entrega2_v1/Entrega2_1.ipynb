{
 "cells": [
  {
   "cell_type": "markdown",
   "metadata": {},
   "source": [
    "# Entrega 2:"
   ]
  },
  {
   "cell_type": "markdown",
   "metadata": {},
   "source": [
    "Marvin Daniel Cely Báez"
   ]
  },
  {
   "cell_type": "markdown",
   "metadata": {},
   "source": [
    "Laura Camila Rojas Valbuena"
   ]
  },
  {
   "cell_type": "markdown",
   "metadata": {
    "collapsed": true
   },
   "source": [
    "# Problema 1"
   ]
  },
  {
   "cell_type": "markdown",
   "metadata": {},
   "source": [
    "Algoritmo de Dijkstra"
   ]
  },
  {
   "cell_type": "code",
   "execution_count": 2,
   "metadata": {
    "collapsed": true
   },
   "outputs": [],
   "source": [
    "#Tomado del Algoritmo de Andres jaque\n",
    "from heapq import heappush, heappop\n",
    "\n",
    "def updateheap(heap,d,v):\n",
    "    for i in range(len(heap)):\n",
    "        if heap[i][1] == v:\n",
    "            heap[i][0] = d\n",
    "            fix_minheap(heap,i) # heap=heapify(heap) ineficient      \n",
    "            break    \n",
    "\n",
    "def fix_minheap(heap, i):\n",
    "    if i == 0: return  \n",
    "    p = int(i/2) #parent  \n",
    "    if p >= 0 and heap[p][0] > heap[i][0]:\n",
    "        heap[i], heap[p] = heap[p], heap[i]\n",
    "        fix_minheap(heap,p)   \n",
    "            \n",
    "def Dijkstra(G,start):\n",
    "        \n",
    "    D = {} # dictionary of final distances\n",
    "    for v in G:\n",
    "        D[v] = float('inf')\n",
    "    D[start] = 0\n",
    "    \n",
    "    P = {} # dictionary of predecessors\n",
    "    \n",
    "    Q=[] #  priority queue est.dist. of non-final vert.\n",
    "    for v in G:\n",
    "        item = []\n",
    "        item.append(D[v])\n",
    "        item.append(v)\n",
    "        heappush(Q,item)\n",
    "    \n",
    "    \n",
    "    #S = []\n",
    "    while Q:\n",
    "        u = heappop(Q)[1]\n",
    "        #S.append(u)\n",
    "        for v in G[u]:\n",
    "            newDuv = D[u] + G[u][v]\n",
    "            if newDuv < D[v]:\n",
    "                P[v] = u\n",
    "                D[v] = newDuv\n",
    "                updateheap(Q,D[v],v)\n",
    "    return D,P"
   ]
  },
  {
   "cell_type": "code",
   "execution_count": 3,
   "metadata": {
    "collapsed": false
   },
   "outputs": [],
   "source": [
    "#Tomado del Algoritmo de Andres jaque\n",
    "def shortestPath(G,start,end,method):\n",
    "    if method ==  'Dijkstra':\n",
    "        D,P = Dijkstra(G,start)\n",
    "    elif method == 'Bellman':\n",
    "        D,P = BellmanFord(G,start)\n",
    "    else:\n",
    "        D,P = Dijkstra(G,start)\n",
    "    \n",
    "    Path = []\n",
    "    while 1:\n",
    "        Path.append(end)\n",
    "        if end == start: break\n",
    "        end = P[end]\n",
    "    Path.reverse()\n",
    "    return Path"
   ]
  },
  {
   "cell_type": "markdown",
   "metadata": {},
   "source": [
    "Calcular Promedios entre sus distancias por cada vértice"
   ]
  },
  {
   "cell_type": "code",
   "execution_count": 4,
   "metadata": {
    "collapsed": false
   },
   "outputs": [],
   "source": [
    "def calcularDistancia(G,path):\n",
    "    distancia = 0.0\n",
    "    for i in range(1,len(path)):\n",
    "        distancia = distancia + G[path[i-1]][path[i]]\n",
    "    return distancia\n",
    "#Se crea una matriz de adjacencia, su contenido son la distancia entre 2 vertices\n",
    "def sumVertice(G,v,mask):\n",
    "    distancias = {}\n",
    "    Vertice = G.keys()\n",
    "    for i in range(len(Vertice)):\n",
    "        if Vertice[i] not in mask:\n",
    "            distancias[Vertice[i]] = calcularDistancia(G,shortestPath(G,v,Vertice[i],'Dijkstra'))\n",
    "    return distancias\n",
    "\n",
    "def ReflejarMatriz(Dic):\n",
    "    for key, value in Dic.iteritems(): \n",
    "        for key1, cost in value.iteritems():\n",
    "            if key != key1:\n",
    "                Dic[key1][key] = cost\n",
    "    return Dic\n",
    "                \n",
    "def MatrizPathBarrios(G):    \n",
    "    Vertice = G.keys()\n",
    "    Vertice.sort()\n",
    "    SumVertice = {}\n",
    "    mask = []\n",
    "    for i in range(len(Vertice)):\n",
    "        mask.append(Vertice[i])\n",
    "        SumVertice[Vertice[i]] = sumVertice(G,Vertice[i],mask)\n",
    "    return ReflejarMatriz(SumVertice)\n",
    "\n",
    "def PromPathbarrios(G):\n",
    "    prom = {}\n",
    "    for key, value in G.iteritems():\n",
    "        suma = 0.0\n",
    "        for key1, cost in value.iteritems():\n",
    "            suma = suma + cost\n",
    "        prom[key] = suma/len(value)    \n",
    "    return prom"
   ]
  },
  {
   "cell_type": "code",
   "execution_count": 5,
   "metadata": {
    "collapsed": false
   },
   "outputs": [],
   "source": [
    "def ApartarTienda(G,tienda):\n",
    "    del G[tienda]\n",
    "    for key,value in G.iteritems():\n",
    "        del value[tienda]\n",
    "        \n",
    "def haySimil(s,avgMinCost):     \n",
    "    parecido = []\n",
    "    for key, value in avgMinCost.iteritems():\n",
    "        if value == s:\n",
    "            parecido.append(key)\n",
    "    return parecido\n",
    "\n",
    "def promCaminos(G1,v):\n",
    "    sumCost = 0.0\n",
    "    vecinos = G1[v]    \n",
    "    for key, cost in vecinos.iteritems():\n",
    "        sumCost = sumCost + cost\n",
    "    return sumCost/len(vecinos)\n",
    "\n",
    "\n",
    "def ElegirMejorTienda(G1,simil):\n",
    "    promVecinos = []\n",
    "    for i in range(len(simil)):\n",
    "        promVecinos.append(promCaminos(G1,simil[i]))\n",
    "    #Elegir prom mas grande\n",
    "    maxi = min(promVecinos)#CAMBIIEEEEE ESTOOOOOOO A MENOR------------------------  \n",
    "    elElegido = 'inf'\n",
    "    for i in range(len(simil)):\n",
    "        if maxi == promVecinos[i]:\n",
    "            elElegido = simil[i]\n",
    "    return elElegido  \n",
    "\n",
    "def ubicarTiendas(G,numTiendas):\n",
    "    tiendasElegidas = []\n",
    "    G1 = G.copy()\n",
    "    if numTiendas == len(G):\n",
    "        return G.keys()\n",
    "    #Las tiendas tienen que ser menores a la cantidad de Barrios\n",
    "    elif numTiendas < len(G):\n",
    "        for i in range(numTiendas):            \n",
    "            #Elegir el promedio pas pequeño\n",
    "            avgMinCost = PromPathbarrios(MatrizPathBarrios(G))   \n",
    "            menor = 99.0\n",
    "            tienda = 'inf'\n",
    "            for key,value in avgMinCost.iteritems():\n",
    "                if value < menor:                                       \n",
    "                    tienda = key\n",
    "                    menor = value\n",
    "            #Elegir la mejor tienda\n",
    "            simil = haySimil(menor,avgMinCost)\n",
    "            if len(simil) > 1:\n",
    "                tienda = ElegirMejorTienda(G1,simil)\n",
    "            tiendasElegidas.append(tienda)\n",
    "            ApartarTienda(G,tienda)#Las tiendas elegidas no se tendran en cuenta para la siguiente iteración\n",
    "        return tiendasElegidas\n",
    "    else:\n",
    "        print \"Santos frijoles saltarines!!! el número de tiendas no esta entre las cantidades de barrios :'(\""
   ]
  },
  {
   "cell_type": "code",
   "execution_count": 13,
   "metadata": {
    "collapsed": true
   },
   "outputs": [],
   "source": [
    "def ElegirMejorTiendaCosto(G1,simil):\n",
    "    promVecinos = []\n",
    "    for i in range(len(simil)):\n",
    "        promVecinos.append(promCaminos(G1,simil[i]))\n",
    "    #Elegir prom mas grande\n",
    "    maxi = max(promVecinos)#CAMBIIEEEEE ESTOOOOOOO A MENOR------------------------  \n",
    "    elElegido = 'inf'\n",
    "    for i in range(len(simil)):\n",
    "        if maxi == promVecinos[i]:\n",
    "            elElegido = simil[i]\n",
    "    return elElegido  \n",
    "\n",
    "def addCostBuilt(avgMinCost, C):\n",
    "    v = avgMinCost.keys()\n",
    "    for i in range(len(v)):\n",
    "        avgMinCost[v[i]] = avgMinCost.get(v[i])/C[v[i]]\n",
    "\n",
    "def ubicarTiendasCostos(G,C,numTiendas):\n",
    "    tiendasElegidas = []\n",
    "    G1 = G.copy()\n",
    "    if numTiendas == len(G):\n",
    "        return G.keys()\n",
    "    #Las tiendas tienen que ser menores a la cantidad de Barrios\n",
    "    elif numTiendas < len(G):\n",
    "        for i in range(numTiendas):            \n",
    "            #Elegir el promedio mas pequeño\n",
    "            avgMinCost = PromPathbarrios(MatrizPathBarrios(G))   \n",
    "            menor = 99.0\n",
    "            tienda = 'inf'\n",
    "            addCostBuilt(avgMinCost,C)\n",
    "            for key,value in avgMinCost.iteritems():\n",
    "                if value < menor:                                       \n",
    "                    tienda = key\n",
    "                    menor = value\n",
    "            #Elegir la mejor tienda\n",
    "            simil = haySimil(menor,avgMinCost)\n",
    "            if len(simil) > 1:\n",
    "                tienda = ElegirMejorTiendaCosto(G1,simil)\n",
    "            tiendasElegidas.append(tienda)\n",
    "            ApartarTienda(G,tienda)#Las tiendas elegidas no se tendran en cuenta para la siguiente iteración\n",
    "        return tiendasElegidas\n",
    "    else:\n",
    "        print \"Santos frijoles saltarines!!! el número de tiendas no esta entre las cantidades de barrios :'(\""
   ]
  },
  {
   "cell_type": "markdown",
   "metadata": {},
   "source": [
    "Costo de la solucion"
   ]
  },
  {
   "cell_type": "code",
   "execution_count": 14,
   "metadata": {
    "collapsed": true
   },
   "outputs": [],
   "source": [
    "def CostoSolucion(G, sol):\n",
    "    G1 = MatrizPathBarrios(G)\n",
    "    costo = []\n",
    "    for key, value in G1.iteritems():\n",
    "        seleccionados = []\n",
    "        for i in range(len(sol)):\n",
    "            seleccionados.append(value.get(sol[i],0))\n",
    "        costo.append(min(seleccionados))\n",
    "    return sum(costo)\n",
    "\n",
    "def CostoSolucionBuilt(G, C, sol):\n",
    "    G1 = MatrizPathBarrios(G)\n",
    "    costo = []\n",
    "    built = 0\n",
    "    for key, value in G1.iteritems():\n",
    "        seleccionados = []\n",
    "        for i in range(len(sol)):\n",
    "            seleccionados.append(value.get(sol[i],0))\n",
    "        costo.append(min(seleccionados))\n",
    "    for i in range(len(sol)):\n",
    "        built += C[sol[i]]\n",
    "    return sum(costo)+built"
   ]
  },
  {
   "cell_type": "code",
   "execution_count": 15,
   "metadata": {
    "collapsed": false
   },
   "outputs": [],
   "source": [
    "def imprimirBarrios(solucion):\n",
    "    s = ''\n",
    "    for i in range(len(solucion)):\n",
    "        s = s + solucion[i]+','\n",
    "    return s"
   ]
  },
  {
   "cell_type": "markdown",
   "metadata": {},
   "source": [
    "Lectura de Archivo"
   ]
  },
  {
   "cell_type": "code",
   "execution_count": 16,
   "metadata": {
    "collapsed": false
   },
   "outputs": [],
   "source": [
    "def lecturaGrafo(arch):\n",
    "    infile = open(arch, 'r')\n",
    "    numBarrios = int(infile.readline())\n",
    "    G = {}\n",
    "    for line in infile:\n",
    "        vector = []\n",
    "        vector = line.split()\n",
    "        key = vector[0]\n",
    "        subG = {}\n",
    "        for i in range(1,len(vector)):\n",
    "            if int(vector[i]) != 0:\n",
    "                key1 = chr(64+i)\n",
    "                cost = vector[i]\n",
    "                subG[key1] = int(cost)\n",
    "        G[key] = subG\n",
    "    infile.close()\n",
    "    return numBarrios, G\n",
    "\n",
    "def lecturaGrafoCosto(arch):\n",
    "    infile = open(arch, 'r')\n",
    "    numBarrios = int(infile.readline())\n",
    "    G = {}\n",
    "    C = {}\n",
    "    for line in infile:\n",
    "        vector = []\n",
    "        vector = line.split()\n",
    "        key = vector[0]\n",
    "        built = int(vector[1])\n",
    "        subG = {}\n",
    "        for i in range(2,len(vector)):\n",
    "            if int(vector[i]) != 0:\n",
    "                key1 = chr(63+i)\n",
    "                cost = vector[i]\n",
    "                subG[key1] = int(cost)\n",
    "        G[key] = subG\n",
    "        C[key] = built\n",
    "    infile.close()\n",
    "    return numBarrios, G, C"
   ]
  },
  {
   "cell_type": "code",
   "execution_count": 21,
   "metadata": {
    "collapsed": false
   },
   "outputs": [],
   "source": [
    "def Punto1_1(nombreArchivo):\n",
    "    numBarrios,G = lecturaGrafo(nombreArchivo)\n",
    "    numBarrios,H = lecturaGrafo(nombreArchivo)\n",
    "    sol = ubicarTiendas(G,numBarrios)\n",
    "    print int(CostoSolucion(H,sol))\n",
    "    print imprimirBarrios(sol)\n",
    "    \n",
    "def Punto1_2(nombreArchivo):\n",
    "    numBarrios,G,C = lecturaGrafoCosto(nombreArchivo)\n",
    "    numBarrios,H,C = lecturaGrafoCosto(nombreArchivo)\n",
    "    sol = ubicarTiendasCostos(G,C,numBarrios)\n",
    "    print int(CostoSolucionBuilt(H,C,sol))\n",
    "    print imprimirBarrios(sol)\n",
    "    \n",
    "    print G"
   ]
  },
  {
   "cell_type": "markdown",
   "metadata": {},
   "source": [
    "Punto 1 Parte 1"
   ]
  },
  {
   "cell_type": "code",
   "execution_count": 22,
   "metadata": {
    "collapsed": false
   },
   "outputs": [
    {
     "name": "stdout",
     "output_type": "stream",
     "text": [
      "input_n5_k1\n",
      "23\n",
      "A,\n",
      "\n",
      "input_n5_k2\n",
      "8\n",
      "A,C,\n",
      "\n",
      "input_n5_k3\n",
      "6\n",
      "A,C,D,\n",
      "\n"
     ]
    }
   ],
   "source": [
    "print 'input_n5_k1' \n",
    "Punto1_1('input_n5_k1')\n",
    "print ''\n",
    "print 'input_n5_k2' \n",
    "Punto1_1('input_n5_k2')\n",
    "print ''\n",
    "print 'input_n5_k3' \n",
    "Punto1_1('input_n5_k3')\n",
    "print ''\n"
   ]
  },
  {
   "cell_type": "markdown",
   "metadata": {},
   "source": [
    "Punto 1 parte 2 (Costos de Construccion)"
   ]
  },
  {
   "cell_type": "code",
   "execution_count": 23,
   "metadata": {
    "collapsed": false,
    "scrolled": true
   },
   "outputs": [
    {
     "name": "stdout",
     "output_type": "stream",
     "text": [
      "input_n5_k1_c\n",
      "58\n",
      "A,\n",
      "{'C': {'B': 9, 'D': 18}, 'B': {'C': 9, 'D': 19}, 'D': {'C': 18, 'B': 19}}\n",
      "\n",
      "input_n5_k2_c\n",
      "63\n",
      "A,C,\n",
      "{'B': {'D': 19}, 'D': {'B': 19}}\n",
      "\n",
      "input_n5_k3_c\n",
      "73\n",
      "A,C,B,\n",
      "{'D': {}}\n",
      "\n"
     ]
    }
   ],
   "source": [
    "#Mejorar el resultado...Optimizarlo...Corregirlo\n",
    "print 'input_n5_k1_c' \n",
    "Punto1_2('input_n5_k1_c')\n",
    "print ''\n",
    "print 'input_n5_k2_c' \n",
    "Punto1_2('input_n5_k2_c')\n",
    "print ''\n",
    "print 'input_n5_k3_c' \n",
    "Punto1_2('input_n5_k3_c')\n",
    "print ''"
   ]
  },
  {
   "cell_type": "markdown",
   "metadata": {},
   "source": [
    "Fin :)"
   ]
  }
 ],
 "metadata": {
  "kernelspec": {
   "display_name": "Python 2",
   "language": "python",
   "name": "python2"
  },
  "language_info": {
   "codemirror_mode": {
    "name": "ipython",
    "version": 2
   },
   "file_extension": ".py",
   "mimetype": "text/x-python",
   "name": "python",
   "nbconvert_exporter": "python",
   "pygments_lexer": "ipython2",
   "version": "2.7.13"
  }
 },
 "nbformat": 4,
 "nbformat_minor": 2
}
