{
 "cells": [
  {
   "cell_type": "markdown",
   "metadata": {},
   "source": [
    "# Punto No. 2"
   ]
  },
  {
   "cell_type": "markdown",
   "metadata": {},
   "source": [
    "Elaborado por: Laura Rojas y Marvin Cely"
   ]
  },
  {
   "cell_type": "code",
   "execution_count": 161,
   "metadata": {
    "collapsed": true
   },
   "outputs": [],
   "source": [
    "def leerArchivo(nombre):\n",
    "    \n",
    "    #Abro el archivo\n",
    "    archivo = open(nombre, \"r\")\n",
    "    \n",
    "    #Creo un grafo vacío que será llenado posteriormente\n",
    "    Grafo={}\n",
    "    \n",
    "    #Por la forma de lectura que implica el formato de entrada, se debe tener un \n",
    "    #contador auxiliar para filas y otro para columnas\n",
    "    contador1=0\n",
    "    contador2=-2\n",
    "    \n",
    "    #Si se puede abrir el archivo\n",
    "    while True:\n",
    "        F={}\n",
    "        informacion=[]\n",
    "        linea = archivo.readline()  \n",
    "        \n",
    "        #Condicion para que se salga si no se puede leer la linea\n",
    "        if not linea: \n",
    "            break \n",
    "            \n",
    "        #Variables auxiliares para la lectura del grafo\n",
    "        contador=contador2\n",
    "        aux=0\n",
    "        \n",
    "        #Se recorren las lineas del archivo separando cada trozo \n",
    "        for j in linea.split():\n",
    "            \n",
    "            if (contador1==0):\n",
    "                nodos=int(j)\n",
    "                contador1+=1;\n",
    "                \n",
    "            elif(contador1==1):\n",
    "                    azul=int(j)\n",
    "                    contador1+=1\n",
    "            else:\n",
    "                \n",
    "                #Cuando hay un \"inf\" se llena con un 0\n",
    "                if(j!='Inf'):\n",
    "                    c=0\n",
    "                    #Separo a partir del caracter \"/\"\n",
    "                    \n",
    "                    for y in j.split(\"/\"):\n",
    "                        if(c==0):\n",
    "                            weight=int(y)\n",
    "                            c+=1\n",
    "                        else:\n",
    "                            color=y\n",
    "                            \n",
    "                            \n",
    "                    if(aux==0):\n",
    "                        F={contador2:{contador:{color,weight}}}\n",
    "                        aux+=1\n",
    "                    else:\n",
    "                        F[contador2][contador]={color,weight}\n",
    "\n",
    "                contador+=1\n",
    "\n",
    "        contador2+=1\n",
    "        \n",
    "        #Actualizo el grafo\n",
    "        Grafo.update(F)\n",
    "    \n",
    "    #Cierro el archivo\n",
    "    archivo.close\n",
    "    #Retorno las variables necesarias\n",
    "    return Grafo,nodos,azul"
   ]
  },
  {
   "cell_type": "code",
   "execution_count": 162,
   "metadata": {
    "collapsed": true
   },
   "outputs": [],
   "source": [
    "#Definición de los atributos de una arista (constructor)\n",
    "class constructorAr:\n",
    "    \n",
    "    #Parametros\n",
    "    def __init__(self,begin,finish,color,weight):\n",
    "        \n",
    "        #Vertice inicio\n",
    "        self.begin=begin\n",
    "        \n",
    "        #Vertice fin\n",
    "        self.finish=finish\n",
    "        \n",
    "        #Color (azul o rojo)\n",
    "        self.color=color\n",
    "        \n",
    "        #Peso de la arista\n",
    "        self.weight=weight"
   ]
  },
  {
   "cell_type": "code",
   "execution_count": 163,
   "metadata": {
    "collapsed": true
   },
   "outputs": [],
   "source": [
    "def tieneSolucion(G,n,k):\n",
    "    \n",
    "    #Se verifican las siguientes condiciones:\n",
    "    \n",
    "    #No debe haber mas azules que rojas o viceversa, \n",
    "    #depende del K Por lo menos tiene que tener K aristas azules, \n",
    "    #si tiene menos, el problema no tiene solucion\n",
    "    #Entra un K K define la cantidad de aristas azules\n",
    "    #K=2 azules N=8 vertices\n",
    "    #N-K-1=8-2-1=5 El grafo inicial debe tener al menos 5 aristas rojas para que el problema tenga solucion\n",
    "    \n",
    "    bandera=False;\n",
    "    contarAzules=0\n",
    "    ContarRojas=0\n",
    "    \n",
    "    #Recorro las aristas\n",
    "    for aristas in G:\n",
    "        #Recorro los vertices\n",
    "        for vertices in G[aristas]:\n",
    "            \n",
    "            #Cuento la cantidad de aristas azules del grafo inicial\n",
    "            if(\"B\" in G[aristas][vertices]):\n",
    "                contarAzules=contarAzules+1\n",
    "            \n",
    "            #Cuento la cantidad de aristas rojas del grafo inicial\n",
    "            if(\"R\" in G[aristas][vertices]):\n",
    "                ContarRojas=ContarRojas+1\n",
    "   \n",
    "    #Si estas condiciones se cumplen, el problema tiene solución\n",
    "    if(k<=contarAzules):\n",
    "        calculoRojo=n-1-k\n",
    "        if(calculoRojo<=ContarRojas):\n",
    "            return True;\n",
    "        else:\n",
    "            print(\"No hay una solución para los valores ingresados\")\n",
    "            \n",
    "    return False;"
   ]
  },
  {
   "cell_type": "code",
   "execution_count": 164,
   "metadata": {
    "collapsed": true
   },
   "outputs": [],
   "source": [
    "def burbuja(informacion):\n",
    "    \n",
    "    #Se organizan las aristas a partir de sus pesos\n",
    "    for i in range(1,len(informacion)):\n",
    "        for j in range(len(informacion)-1):\n",
    "            \n",
    "            if informacion[j].weight>informacion[j+1].weight:\n",
    "                \n",
    "                #Ordenamiento por burbuja\n",
    "                aux=informacion[j]\n",
    "                informacion[j]=informacion[j+1]\n",
    "                informacion[j+1]=aux"
   ]
  },
  {
   "cell_type": "code",
   "execution_count": 165,
   "metadata": {
    "collapsed": true
   },
   "outputs": [],
   "source": [
    "def organizarAr(G):\n",
    "    \n",
    "    informacion=[]\n",
    "    yaEsta=[]\n",
    "    \n",
    "    #Recorro las aristas\n",
    "    for aristas in G:\n",
    "        begin=aristas\n",
    "        \n",
    "        #Recorro los vertices\n",
    "        for vertices in G[aristas]:\n",
    "            finish=vertices\n",
    "            \n",
    "            #Asigno color\n",
    "            for j in G[aristas][vertices]:\n",
    "                \n",
    "                if(j=='R' or j=='B'):\n",
    "                    color=j\n",
    "                else:\n",
    "                    weight=j\n",
    "                    \n",
    "            if(not finish in yaEsta):        \n",
    "                a=arista(begin,finish,color,weight)\n",
    "                informacion.append(a)\n",
    "                \n",
    "        yaEsta.append(begin)\n",
    "    burbuja(informacion)\n",
    "    \n",
    "    return informacion"
   ]
  },
  {
   "cell_type": "code",
   "execution_count": 166,
   "metadata": {
    "collapsed": true
   },
   "outputs": [],
   "source": [
    "def minExp(G,n,k):\n",
    "    \n",
    "    #Si la verificación de que el problema tiene solución se cumple,\n",
    "    #Se procede a realizar los siguientes pasos\n",
    "    if(tieneSolucion(G,n,k)):\n",
    "        \n",
    "        #Se organizan las aristas por peso\n",
    "        organizarAristas=organizarAr(G)\n",
    "        \n",
    "        #Se construye el arbol final\n",
    "        arb=resultadoFinalArbol(organizarAristas,k,n)\n",
    "        \n",
    "        #Se retorna el arbol final\n",
    "        return arb;"
   ]
  },
  {
   "cell_type": "code",
   "execution_count": 167,
   "metadata": {
    "collapsed": true
   },
   "outputs": [],
   "source": [
    "def resultadoFinalArbol(informacion,k,n):\n",
    "    \n",
    "    #Nuevo valor azules\n",
    "    contarAzules=k\n",
    "    \n",
    "    #Nuevo valor rojas\n",
    "    ContarRojas=n-k-1\n",
    "    \n",
    "    #Contador aristas azules\n",
    "    contAzul=0\n",
    "    \n",
    "    #Contador aristas rojas\n",
    "    contRojo=0\n",
    "    \n",
    "    #Defino un arbol\n",
    "    arb2=[]\n",
    "    valor=0\n",
    "    \n",
    "    \n",
    "    for i in informacion:\n",
    "        llenar=False\n",
    "        if(i.color=='R'):\n",
    "            if(contRojo<ContarRojas):\n",
    "                llenar=True\n",
    "                contRojo=contRojo+1\n",
    "        elif(i.color=='B'):\n",
    "            if(contAzul<contarAzules):\n",
    "                llenar=True\n",
    "                contAzul=contAzul+1\n",
    "        if(llenar):\n",
    "            arb={i.begin:{i.finish: i.color}}\n",
    "            arb2.append(arb)\n",
    "            valor=valor+i.weight\n",
    "    print(\"Peso total: \",valor)\n",
    "    return arb2;"
   ]
  },
  {
   "cell_type": "code",
   "execution_count": 168,
   "metadata": {
    "collapsed": false
   },
   "outputs": [
    {
     "name": "stdout",
     "output_type": "stream",
     "text": [
      "El grafo es: \n",
      "\n",
      "({0: {2: set(['R', 5]), 4: set(['B', 4])}, 1: {2: set([3, 'R']), 3: set([3, 'B']), 5: set([1, 'R']), 6: set([8, 'B'])}, 2: {4: set(['B', 6]), 6: set(['B', 4])}, 3: {5: set(['B', 6]), 7: set(['B', 6])}, 4: {6: set(['B', 7])}, 5: {7: set(['R', 5])}, 6: {7: set([1, 'B'])}}, 8, 4)\n"
     ]
    }
   ],
   "source": [
    "print \"El grafo es: \"\n",
    "print \"\"\n",
    "print leerArchivo (\"input_n8_b4_r3\")"
   ]
  },
  {
   "cell_type": "code",
   "execution_count": 169,
   "metadata": {
    "collapsed": false
   },
   "outputs": [
    {
     "name": "stdout",
     "output_type": "stream",
     "text": [
      "La salida obtenida en el algoritmo es:\n",
      "\n",
      "El arbol que cumple con las restricciones iniciales es:\n",
      "('Peso total: ', 21)\n",
      "[{1: {5: 'R'}}, {6: {7: 'B'}}, {1: {2: 'R'}}, {1: {3: 'B'}}, {0: {4: 'B'}}, {2: {6: 'B'}}, {0: {2: 'R'}}]\n"
     ]
    }
   ],
   "source": [
    "print \"La salida obtenida en el algoritmo es:\"\n",
    "print \"\"\n",
    "\n",
    "G,nodos,azul=leerArchivo(\"input_n8_b4_r3\")\n",
    "print \"El arbol que cumple con las restricciones iniciales es:\"\n",
    "print minExp(G,nodos,azul)"
   ]
  }
 ],
 "metadata": {
  "kernelspec": {
   "display_name": "Python 2",
   "language": "python",
   "name": "python2"
  },
  "language_info": {
   "codemirror_mode": {
    "name": "ipython",
    "version": 2
   },
   "file_extension": ".py",
   "mimetype": "text/x-python",
   "name": "python",
   "nbconvert_exporter": "python",
   "pygments_lexer": "ipython2",
   "version": "2.7.13"
  }
 },
 "nbformat": 4,
 "nbformat_minor": 2
}
