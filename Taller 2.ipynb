{
 "cells": [
  {
   "cell_type": "markdown",
   "metadata": {
    "collapsed": true
   },
   "source": [
    "# Taller 2"
   ]
  },
  {
   "cell_type": "markdown",
   "metadata": {},
   "source": [
    "<h2>Cree un notebook de python donde implemente los siguientes algoritmos para el problema de multiplicación de matrices cuadradas de tamaño nxn A*B = C:</h2>"
   ]
  },
  {
   "cell_type": "markdown",
   "metadata": {},
   "source": [
    "<h3>1. Implemente un algoritmo de multiplicación de matrices en tiempo O(n^3) que calcule cada elemento de la matriz C como c_{ij} = \\sum_{k=1}^n a_{ik}*b_{kj}</h3>"
   ]
  },
  {
   "cell_type": "code",
   "execution_count": 83,
   "metadata": {
    "collapsed": true
   },
   "outputs": [],
   "source": [
    "import math\n",
    "import numpy as np\n",
    "import pylab as pl\n",
    "%matplotlib inline"
   ]
  },
  {
   "cell_type": "code",
   "execution_count": 41,
   "metadata": {
    "collapsed": false
   },
   "outputs": [],
   "source": [
    "#algoritmo analisado de: https://programacion-innata.blogspot.com.co/2013/06/producto-de-matrices-en-c.html\n",
    "def matrizProduct(A,B):\n",
    "    rowA = len(A)\n",
    "    colA = len(A[1,:])\n",
    "    rowB = len(B)\n",
    "    colB = len(B[1,:])\n",
    "    if colA == rowB:\n",
    "        C = np.zeros((rowA,colB))\n",
    "        #it can multiply\n",
    "        for i in range(rowA):      \n",
    "            for j in range(colB):             \n",
    "                for k in range(colA):\n",
    "                    C[i,j]+=A[i,k]*B[k,j]  \n",
    "        return C\n",
    "    return \"Matrix A's number of cols is diferent than Matrix B's number of rows\""
   ]
  },
  {
   "cell_type": "code",
   "execution_count": 68,
   "metadata": {
    "collapsed": false
   },
   "outputs": [
    {
     "name": "stdout",
     "output_type": "stream",
     "text": [
      "Matrix A\n",
      "[[ 0  1  2]\n",
      " [ 3  4  5]\n",
      " [ 6  7  8]\n",
      " [ 9 10 11]]\n",
      "\n",
      "Matrix B\n",
      "[[0 1]\n",
      " [2 3]\n",
      " [4 5]]\n",
      "\n",
      "Matrix A*B\n",
      "[[ 10.  13.]\n",
      " [ 28.  40.]\n",
      " [ 46.  67.]\n",
      " [ 64.  94.]]\n"
     ]
    }
   ],
   "source": [
    "A = np.arange(12).reshape(4,3)\n",
    "B = np.arange(6).reshape(3,2)\n",
    "\n",
    "print \"Matrix A\"\n",
    "print A\n",
    "print \"\"\n",
    "print \"Matrix B\"\n",
    "print B\n",
    "print \"\"\n",
    "print \"Matrix A*B\"\n",
    "print matrizProduct(A,B)"
   ]
  },
  {
   "cell_type": "markdown",
   "metadata": {},
   "source": [
    "<h3>2. Implemente un algoritmo de multiplicación de matrices basado en una estrategía de multiplicación de matrices en tiempo O(n^3) donde cada matriz es dividida en 4 partes iguales.</h3>"
   ]
  },
  {
   "cell_type": "code",
   "execution_count": 60,
   "metadata": {
    "collapsed": true
   },
   "outputs": [],
   "source": [
    "def simpleProduct(A,B):\n",
    "    C = np.empty((2,2))\n",
    "    #a 0 0   b 0 1\n",
    "    #c 1 0   d 1 1\n",
    "    \n",
    "    #e 0 0   f 0 1\n",
    "    #g 1 0   h 1 1\n",
    "    \n",
    "    #r = a*e + b*g\n",
    "    C[0,0] = A[0,0]*B[0,0] + A[0,1]*B[1,0]\n",
    "    #s = a*f + b*h\n",
    "    C[0,1] = A[0,0]*B[0,1] + A[0,1]*B[1,1]\n",
    "    #t = c*e + d*g\n",
    "    C[1,0] = A[1,0]*B[0,0] + A[1,1]*B[1,0]\n",
    "    #u = c*f + d*h\n",
    "    C[1,1] = A[1,0]*B[0,1] + A[1,1]*B[1,1]\n",
    "    \n",
    "    return C"
   ]
  },
  {
   "cell_type": "code",
   "execution_count": 17,
   "metadata": {
    "collapsed": true
   },
   "outputs": [],
   "source": [
    "def reSizeMat( M, maxS):\n",
    "    if maxS%2 != 0:\n",
    "        maxS = maxS+1\n",
    "    C = np.zeros((maxS,maxS))\n",
    "    for r in range(len(M)):\n",
    "        for c in range(len(M[0,:])):\n",
    "            C[r,c] = M[r,c]\n",
    "    return C"
   ]
  },
  {
   "cell_type": "code",
   "execution_count": 18,
   "metadata": {
    "collapsed": false
   },
   "outputs": [],
   "source": [
    "def subMat( M, cooSize):\n",
    "    x = cooSize[1]-cooSize[0]\n",
    "    y = cooSize[3]-cooSize[2]\n",
    "    C = np.empty((x,y))\n",
    "    for i in range( cooSize[0], cooSize[1] ):\n",
    "        for j in range( cooSize[2], cooSize[3] ):\n",
    "            C[i%x,j%y] = M[i,j]\n",
    "    return C"
   ]
  },
  {
   "cell_type": "code",
   "execution_count": 25,
   "metadata": {
    "collapsed": false
   },
   "outputs": [],
   "source": [
    "def supraMat( C, M, cooSize ):\n",
    "    x = cooSize[1]-cooSize[0]\n",
    "    y = cooSize[3]-cooSize[2]\n",
    "    for i in range( cooSize[0], cooSize[1] ):\n",
    "        for j in range( cooSize[2], cooSize[3] ):\n",
    "            C[i,j] = M[i%x,j%y]\n",
    "            \n",
    "    return C"
   ]
  },
  {
   "cell_type": "code",
   "execution_count": 61,
   "metadata": {
    "collapsed": false
   },
   "outputs": [],
   "source": [
    "def divEtImperaMatP( A, B ):\n",
    "    #Si la matriz es impar convertirla en matrices cuadradas pares del mismo tamaño\n",
    "    sizes = [len(A),len(A[0,:]),len(B),len(B[0,:])]\n",
    "    A = reSizeMat( A, max(sizes))\n",
    "    B = reSizeMat( B, max(sizes))\n",
    "    #si la matriz es tam 2\n",
    "    if len(A) == 2:\n",
    "        return simpleProduct(A,B)\n",
    "    else:\n",
    "        #Repartir las 4 submatrices\n",
    "        a = subMat( A, [0,len(A)/2,0,len(A)/2] )\n",
    "        b = subMat( A, [0,len(A)/2,len(A)/2,len(A)] )\n",
    "        c = subMat( A, [len(A)/2,len(A),0,len(A)/2] )\n",
    "        d = subMat( A, [len(A)/2,len(A),len(A)/2,len(A)] )\n",
    "\n",
    "        e = subMat( B, [0,len(B)/2,0,len(B)/2] )\n",
    "        f = subMat( B, [0,len(B)/2,len(B)/2,len(B)] )\n",
    "        g = subMat( B, [len(B)/2,len(B),0,len(B)/2] )\n",
    "        h = subMat( B, [len(B)/2,len(B),len(B)/2,len(B)] )\n",
    "\n",
    "        #Multiplicar y sumar matrices\n",
    "        #r = a*e + b*g\n",
    "        r = divEtImperaMatP(a,e) + divEtImperaMatP(b,g)\n",
    "        #s = a*f + b*h\n",
    "        s = divEtImperaMatP(a,f) + divEtImperaMatP(b,h)\n",
    "        #t = c*e + d*g\n",
    "        t = divEtImperaMatP(c,e) + divEtImperaMatP(d,g)\n",
    "        #u = c*f + d*h\n",
    "        u = divEtImperaMatP(c,f) + divEtImperaMatP(d,h)\n",
    "        #concatenar r s t u asia C\n",
    "        C = np.zeros_like(A)\n",
    "        C = supraMat( C, r, [0,len(A)/2,0,len(A)/2] )\n",
    "        C = supraMat( C, s, [0,len(A)/2,len(A)/2,len(A)] )\n",
    "        C = supraMat( C, t, [len(A)/2,len(A),0,len(A)/2] )\n",
    "        C = supraMat( C, u, [len(B)/2,len(B),len(B)/2,len(B)] )\n",
    "        return C"
   ]
  },
  {
   "cell_type": "code",
   "execution_count": 65,
   "metadata": {
    "collapsed": true
   },
   "outputs": [],
   "source": [
    "def martrixProductDV( A, B ):\n",
    "    C = divEtImperaMatP( A, B )\n",
    "    rowA = len(A)\n",
    "    colB = len(B[1,:])\n",
    "    D = np.empty((rowA,colB))\n",
    "    for i in range(rowA):\n",
    "        for j in range(colB):\n",
    "            D[i,j] = C[i,j]\n",
    "    return D"
   ]
  },
  {
   "cell_type": "code",
   "execution_count": 67,
   "metadata": {
    "collapsed": false
   },
   "outputs": [
    {
     "name": "stdout",
     "output_type": "stream",
     "text": [
      "Matrix A\n",
      "[[ 0  1  2]\n",
      " [ 3  4  5]\n",
      " [ 6  7  8]\n",
      " [ 9 10 11]]\n",
      "\n",
      "Matrix B\n",
      "[[0 1]\n",
      " [2 3]\n",
      " [4 5]]\n",
      "\n",
      "Matrix A*B\n",
      "[[ 10.  13.]\n",
      " [ 28.  40.]\n",
      " [ 46.  67.]\n",
      " [ 64.  94.]]\n"
     ]
    }
   ],
   "source": [
    "A = np.arange(12).reshape(4,3)\n",
    "B = np.arange(6).reshape(3,2)\n",
    "\n",
    "print \"Matrix A\"\n",
    "print A\n",
    "print \"\"\n",
    "print \"Matrix B\"\n",
    "print B\n",
    "print \"\"\n",
    "print \"Matrix A*B\"\n",
    "print martrixProductDV( A, B )"
   ]
  },
  {
   "cell_type": "markdown",
   "metadata": {},
   "source": [
    "<h3>3. Implemente el algoritmo de strassen.</h3>"
   ]
  },
  {
   "cell_type": "code",
   "execution_count": 70,
   "metadata": {
    "collapsed": true
   },
   "outputs": [],
   "source": [
    "def strassensIdea(A,B):\n",
    "    C = np.empty((2,2))        \n",
    "    #a 0 0   b 0 1\n",
    "    #c 1 0   d 1 1\n",
    "    \n",
    "    #e 0 0   f 0 1\n",
    "    #g 1 0   h 1 1\n",
    "    \n",
    "    a = A[0,0]\n",
    "    b = A[0,1]\n",
    "    c = A[1,0]\n",
    "    d = A[1,1]\n",
    "\n",
    "    e = B[0,0]\n",
    "    f = B[0,1]\n",
    "    g = B[1,0]\n",
    "    h = B[1,1]    \n",
    "    \n",
    "    P1 = a*(f-h)\n",
    "    P2 = (a+b)*h\n",
    "    P3 = (c+d)*e\n",
    "    P4 = d*(g-e)    \n",
    "    P5 = (a+d)*(e+h)   \n",
    "    P6 = (b-d)*(g+h)    \n",
    "    P7 = (a-c)*(e+f)       \n",
    "        \n",
    "    #r = P5 + P4 - P2 + P6\n",
    "    C[0,0] = P5 + P4 - P2 + P6\n",
    "    #s = P1 + P2\n",
    "    C[0,1]  = P1 + P2\n",
    "    #t = P3 + P4\n",
    "    C[1,0] = P3 + P4\n",
    "    #u = P5 + P1 - P3 - P7\n",
    "    C[1,1] = P5 + P1 - P3 - P7    \n",
    "    return C"
   ]
  },
  {
   "cell_type": "code",
   "execution_count": 69,
   "metadata": {
    "collapsed": true
   },
   "outputs": [],
   "source": [
    "def strassenMatP( A, B ):\n",
    "    #Si la matriz es impar convertirla en matrices cuadradas pares del mismo tamaño\n",
    "    sizes = [len(A),len(A[0,:]),len(B),len(B[0,:])]\n",
    "    A = reSizeMat( A, max(sizes))\n",
    "    B = reSizeMat( B, max(sizes))\n",
    "    #si la matriz es tam 2\n",
    "    if len(A) == 2:\n",
    "        return strassensIdea(A,B)\n",
    "    else:\n",
    "        #Repartir las 4 submatrices\n",
    "        a = subMat( A, [0,len(A)/2,0,len(A)/2] )\n",
    "        b = subMat( A, [0,len(A)/2,len(A)/2,len(A)] )\n",
    "        c = subMat( A, [len(A)/2,len(A),0,len(A)/2] )\n",
    "        d = subMat( A, [len(A)/2,len(A),len(A)/2,len(A)] )\n",
    "\n",
    "        e = subMat( B, [0,len(B)/2,0,len(B)/2] )\n",
    "        f = subMat( B, [0,len(B)/2,len(B)/2,len(B)] )\n",
    "        g = subMat( B, [len(B)/2,len(B),0,len(B)/2] )\n",
    "        h = subMat( B, [len(B)/2,len(B),len(B)/2,len(B)] )\n",
    "\n",
    "        #Metodo Strassen\n",
    "        #P1 = a*(f-h)\n",
    "        P1 = strassenMatP( a, f-h )\n",
    "        #P2 = (a+b)*h\n",
    "        P2 = strassenMatP( a+b, h )\n",
    "        #P3 = (c+d)*e\n",
    "        P3 = strassenMatP( c+d, e )\n",
    "        #P4 = d*(g-e)\n",
    "        P4 = strassenMatP( d, g-e )\n",
    "        #P5 = (a+d)*(e+h)\n",
    "        P5 = strassenMatP( a+d, e+h )\n",
    "        #P6 = (b-d)*(g+h)\n",
    "        P6 = strassenMatP( b-d, g+h )\n",
    "        #P7 = (a-c)*(e+f)\n",
    "        P7 = strassenMatP( a-c, e+f )        \n",
    "        \n",
    "        #r = P5 + P4 - P2 + P6\n",
    "        r = P5 + P4 - P2 + P6\n",
    "        #s = P1 + P2\n",
    "        s = P1 + P2\n",
    "        #t = P3 + P4\n",
    "        t = P3 + P4\n",
    "        #u = P5 + P1 - P3 - P7\n",
    "        u = P5 + P1 - P3 - P7\n",
    "        \n",
    "        #concatenar r s t u asia C\n",
    "        C = np.zeros_like(A)\n",
    "        C = supraMat( C, r, [0,len(A)/2,0,len(A)/2] )\n",
    "        C = supraMat( C, s, [0,len(A)/2,len(A)/2,len(A)] )\n",
    "        C = supraMat( C, t, [len(A)/2,len(A),0,len(A)/2] )\n",
    "        C = supraMat( C, u, [len(B)/2,len(B),len(B)/2,len(B)] )\n",
    "        return C\n",
    "    "
   ]
  },
  {
   "cell_type": "code",
   "execution_count": 71,
   "metadata": {
    "collapsed": true
   },
   "outputs": [],
   "source": [
    "def strassenMethod( A, B ):\n",
    "    C = strassenMatP( A, B )\n",
    "    rowA = len(A)\n",
    "    colB = len(B[1,:])\n",
    "    D = np.empty((rowA,colB))\n",
    "    for i in range(rowA):\n",
    "        for j in range(colB):\n",
    "            D[i,j] = C[i,j]\n",
    "    return D"
   ]
  },
  {
   "cell_type": "code",
   "execution_count": 72,
   "metadata": {
    "collapsed": false
   },
   "outputs": [
    {
     "name": "stdout",
     "output_type": "stream",
     "text": [
      "Matrix A\n",
      "[[ 0  1  2]\n",
      " [ 3  4  5]\n",
      " [ 6  7  8]\n",
      " [ 9 10 11]]\n",
      "\n",
      "Matrix B\n",
      "[[0 1]\n",
      " [2 3]\n",
      " [4 5]]\n",
      "\n",
      "Matrix A*B\n",
      "[[ 10.  13.]\n",
      " [ 28.  40.]\n",
      " [ 46.  67.]\n",
      " [ 64.  94.]]\n"
     ]
    }
   ],
   "source": [
    "A = np.arange(12).reshape(4,3)\n",
    "B = np.arange(6).reshape(3,2)\n",
    "\n",
    "print \"Matrix A\"\n",
    "print A\n",
    "print \"\"\n",
    "print \"Matrix B\"\n",
    "print B\n",
    "print \"\"\n",
    "print \"Matrix A*B\"\n",
    "print strassenMethod( A, B )"
   ]
  },
  {
   "cell_type": "markdown",
   "metadata": {},
   "source": [
    "<h3>4. Para cada uno de los algoritmos incorpore un objeto que cuente el número de operaciones.</h3>\n",
    "<ul>\n",
    " <li>Pruebe cada uno de los algoritmos con matrices de valores aleatorios con tamaños de n que varien linealmente desde 2 hasta 100 y registre la cantidad de operaciones que toma calcular C.</li>\n",
    " <li>En una sola gráfica compare el tiempo de ejecución de los tres algoritmos de acuerdo a la cantidad de operaciones.</li>\n",
    "</ul>"
   ]
  },
  {
   "cell_type": "code",
   "execution_count": 73,
   "metadata": {
    "collapsed": true
   },
   "outputs": [],
   "source": [
    "class Counter:\n",
    "    '''\n",
    "    Class Counter\n",
    "    Implements a step counter, which is used to compute the number of basic operations performed in\n",
    "    a particular call to a function.\n",
    "    '''\n",
    "    def __init__(self):\n",
    "        self.steps = 0\n",
    "\n",
    "    def reset(self):\n",
    "        self.steps = 0\n",
    "\n",
    "    def count(self):\n",
    "        self.steps += 1\n",
    "\n",
    "    def print_steps(self):\n",
    "        print \"Number of steps =\", self.steps"
   ]
  },
  {
   "cell_type": "markdown",
   "metadata": {},
   "source": [
    "<h5>Matriz Producto</h5>"
   ]
  },
  {
   "cell_type": "code",
   "execution_count": 74,
   "metadata": {
    "collapsed": true
   },
   "outputs": [],
   "source": [
    "#algoritmo analisado de: https://programacion-innata.blogspot.com.co/2013/06/producto-de-matrices-en-c.html\n",
    "def aMatrizProduct(A,B,acct):\n",
    "    rowA = len(A); acct.count()\n",
    "    colA = len(A[1,:]); acct.count()\n",
    "    rowB = len(B); acct.count()\n",
    "    colB = len(B[1,:]); acct.count()\n",
    "    acct.count()\n",
    "    if colA == rowB:\n",
    "        acct.count()\n",
    "        C = np.zeros((rowA,colB)); acct.count()\n",
    "        #it can multiply\n",
    "        acct.count()\n",
    "        for i in range(rowA):\n",
    "            acct.count()\n",
    "            for j in range(colB):\n",
    "                acct.count()\n",
    "                for k in range(colA):\n",
    "                    acct.count()\n",
    "                    C[i,j]+=A[i,k]*B[k,j]; acct.count()\n",
    "        acct.count()\n",
    "        return C\n",
    "    acct.count()\n",
    "    return \"Matrix A's number of cols is diferent than Matrix B's number of rows\""
   ]
  },
  {
   "cell_type": "code",
   "execution_count": 97,
   "metadata": {
    "collapsed": true
   },
   "outputs": [],
   "source": [
    "def analysisPM(n):\n",
    "    results = []\n",
    "    acct = Counter()\n",
    "    for i in range(2,n+2):\n",
    "        acct.reset()\n",
    "        A = np.arange(i*i).reshape(i,i)\n",
    "        B = np.arange(i*i).reshape(i,i)\n",
    "        aMatrizProduct(A,B,acct)\n",
    "        results.append(acct.steps)\n",
    "    return results"
   ]
  },
  {
   "cell_type": "markdown",
   "metadata": {},
   "source": [
    "<h5>Matriz Producto Divide Et Impera</h5>"
   ]
  },
  {
   "cell_type": "code",
   "execution_count": 105,
   "metadata": {
    "collapsed": true
   },
   "outputs": [],
   "source": [
    "def simpleProductA(A,B,acct):\n",
    "    C = np.empty((2,2)); acct.count()\n",
    "    #a 0 0   b 0 1\n",
    "    #c 1 0   d 1 1\n",
    "    \n",
    "    #e 0 0   f 0 1\n",
    "    #g 1 0   h 1 1\n",
    "    \n",
    "    #r = a*e + b*g\n",
    "    C[0,0] = A[0,0]*B[0,0] + A[0,1]*B[1,0]; acct.count()\n",
    "    #s = a*f + b*h\n",
    "    C[0,1] = A[0,0]*B[0,1] + A[0,1]*B[1,1]; acct.count()\n",
    "    #t = c*e + d*g\n",
    "    C[1,0] = A[1,0]*B[0,0] + A[1,1]*B[1,0]; acct.count()\n",
    "    #u = c*f + d*h\n",
    "    C[1,1] = A[1,0]*B[0,1] + A[1,1]*B[1,1]; acct.count()\n",
    "    \n",
    "    acct.count()\n",
    "    return C"
   ]
  },
  {
   "cell_type": "code",
   "execution_count": 106,
   "metadata": {
    "collapsed": true
   },
   "outputs": [],
   "source": [
    "def reSizeMatA( M, maxS,acct):\n",
    "    acct.count()\n",
    "    if maxS%2 != 0:\n",
    "        acct.count()\n",
    "        maxS = maxS+1; acct.count()\n",
    "    C = np.zeros((maxS,maxS)); acct.count()\n",
    "    acct.count()\n",
    "    for r in range(len(M)):\n",
    "        acct.count()\n",
    "        for c in range(len(M[0,:])):\n",
    "            acct.count()\n",
    "            C[r,c] = M[r,c]; acct.count()\n",
    "    acct.count()\n",
    "    return C"
   ]
  },
  {
   "cell_type": "code",
   "execution_count": 107,
   "metadata": {
    "collapsed": false
   },
   "outputs": [],
   "source": [
    "def subMatA( M, cooSize,acct):\n",
    "    x = cooSize[1]-cooSize[0]; acct.count()\n",
    "    y = cooSize[3]-cooSize[2]; acct.count()\n",
    "    C = np.empty((x,y)); acct.count()\n",
    "    acct.count()\n",
    "    for i in range( cooSize[0], cooSize[1] ):\n",
    "        acct.count()\n",
    "        for j in range( cooSize[2], cooSize[3] ):\n",
    "            acct.count()\n",
    "            C[i%x,j%y] = M[i,j]; acct.count()\n",
    "    acct.count()\n",
    "    return C"
   ]
  },
  {
   "cell_type": "code",
   "execution_count": 108,
   "metadata": {
    "collapsed": false
   },
   "outputs": [],
   "source": [
    "def supraMatA( C, M, cooSize ,acct):\n",
    "    x = cooSize[1]-cooSize[0]; acct.count()\n",
    "    y = cooSize[3]-cooSize[2]; acct.count()\n",
    "    acct.count()\n",
    "    for i in range( cooSize[0], cooSize[1] ):\n",
    "        acct.count()\n",
    "        for j in range( cooSize[2], cooSize[3] ):\n",
    "            acct.count()\n",
    "            C[i,j] = M[i%x,j%y]; acct.count()\n",
    "    acct.count()        \n",
    "    return C"
   ]
  },
  {
   "cell_type": "code",
   "execution_count": 109,
   "metadata": {
    "collapsed": false
   },
   "outputs": [],
   "source": [
    "def divEtImperaMatP_A( A, B, acct ):\n",
    "    #Si la matriz es impar convertirla en matrices cuadradas pares del mismo tamaño\n",
    "    sizes = [len(A),len(A[0,:]),len(B),len(B[0,:])]; acct.count()\n",
    "    A = reSizeMatA( A, max(sizes),acct); acct.count()\n",
    "    B = reSizeMatA( B, max(sizes),acct); acct.count()\n",
    "    #si la matriz es tam 2\n",
    "    acct.count()\n",
    "    if len(A) == 2:\n",
    "        acct.count()\n",
    "        acct.count()\n",
    "        return simpleProductA(A,B,acct)\n",
    "    else:\n",
    "        #Repartir las 4 submatrices\n",
    "        a = subMatA( A, [0,len(A)/2,0,len(A)/2],acct ); acct.count()\n",
    "        b = subMatA( A, [0,len(A)/2,len(A)/2,len(A)],acct ); acct.count()\n",
    "        c = subMatA( A, [len(A)/2,len(A),0,len(A)/2],acct ); acct.count()\n",
    "        d = subMatA( A, [len(A)/2,len(A),len(A)/2,len(A)],acct ); acct.count()\n",
    "\n",
    "        e = subMatA( B, [0,len(B)/2,0,len(B)/2],acct ); acct.count()\n",
    "        f = subMatA( B, [0,len(B)/2,len(B)/2,len(B)],acct); acct.count()\n",
    "        g = subMatA( B, [len(B)/2,len(B),0,len(B)/2],acct ); acct.count()\n",
    "        h = subMatA( B, [len(B)/2,len(B),len(B)/2,len(B)],acct ); acct.count()\n",
    "\n",
    "        #Multiplicar y sumar matrices\n",
    "        #r = a*e + b*g\n",
    "        r = divEtImperaMatP_A(a,e,acct) + divEtImperaMatP_A(b,g,acct); acct.count()\n",
    "        #s = a*f + b*h\n",
    "        s = divEtImperaMatP_A(a,f,acct) + divEtImperaMatP_A(b,h,acct); acct.count()\n",
    "        #t = c*e + d*g\n",
    "        t = divEtImperaMatP_A(c,e,acct) + divEtImperaMatP_A(d,g,acct); acct.count()\n",
    "        #u = c*f + d*h\n",
    "        u = divEtImperaMatP_A(c,f,acct) + divEtImperaMatP_A(d,h,acct); acct.count()\n",
    "        #concatenar r s t u asia C\n",
    "        C = np.zeros_like(A); acct.count()\n",
    "        C = supraMatA( C, r, [0,len(A)/2,0,len(A)/2],acct ); acct.count()\n",
    "        C = supraMatA( C, s, [0,len(A)/2,len(A)/2,len(A)],acct ); acct.count()\n",
    "        C = supraMatA( C, t, [len(A)/2,len(A),0,len(A)/2],acct ); acct.count()\n",
    "        C = supraMatA( C, u, [len(B)/2,len(B),len(B)/2,len(B)],acct ); acct.count()\n",
    "        acct.count()\n",
    "        return C"
   ]
  },
  {
   "cell_type": "code",
   "execution_count": 110,
   "metadata": {
    "collapsed": true
   },
   "outputs": [],
   "source": [
    "def martrixProductDV_A( A, B, acct ):\n",
    "    C = divEtImperaMatP_A( A, B, acct )\n",
    "    rowA = len(A); acct.count()\n",
    "    colB = len(B[1,:]); acct.count()\n",
    "    D = np.empty((rowA,colB)); acct.count()\n",
    "    acct.count()\n",
    "    for i in range(rowA):\n",
    "        acct.count()\n",
    "        for j in range(colB):\n",
    "            acct.count()\n",
    "            D[i,j] = C[i,j]; acct.count()\n",
    "    acct.count()\n",
    "    return D"
   ]
  },
  {
   "cell_type": "code",
   "execution_count": 114,
   "metadata": {
    "collapsed": true
   },
   "outputs": [],
   "source": [
    "def analysisPM_DV(n):\n",
    "    results = []\n",
    "    acct = Counter()\n",
    "    for i in range(2,n+2):\n",
    "        acct.reset()\n",
    "        A = np.arange(i*i).reshape(i,i)\n",
    "        B = np.arange(i*i).reshape(i,i)\n",
    "        martrixProductDV_A(A,B,acct)\n",
    "        results.append(acct.steps)\n",
    "    return results"
   ]
  },
  {
   "cell_type": "code",
   "execution_count": 115,
   "metadata": {
    "collapsed": false
   },
   "outputs": [
    {
     "name": "stdout",
     "output_type": "stream",
     "text": [
      "[55, 598, 639, 5088, 5153, 5626, 5715, 41492, 41605, 42350]\n"
     ]
    }
   ],
   "source": [
    "print analysisPM_DV(10)"
   ]
  },
  {
   "cell_type": "markdown",
   "metadata": {},
   "source": [
    "<h5>Matriz Producto Strassen</h5>"
   ]
  },
  {
   "cell_type": "code",
   "execution_count": 121,
   "metadata": {
    "collapsed": true
   },
   "outputs": [],
   "source": [
    "def strassensIdeaA(A,B, acct):\n",
    "    C = np.empty((2,2)); acct.count()        \n",
    "    #a 0 0   b 0 1\n",
    "    #c 1 0   d 1 1\n",
    "    \n",
    "    #e 0 0   f 0 1\n",
    "    #g 1 0   h 1 1\n",
    "    \n",
    "    a = A[0,0]; acct.count() \n",
    "    b = A[0,1]; acct.count() \n",
    "    c = A[1,0]; acct.count() \n",
    "    d = A[1,1]; acct.count() \n",
    "\n",
    "    e = B[0,0]; acct.count()\n",
    "    f = B[0,1]; acct.count()\n",
    "    g = B[1,0]; acct.count()\n",
    "    h = B[1,1]; acct.count()    \n",
    "    \n",
    "    P1 = a*(f-h); acct.count()\n",
    "    P2 = (a+b)*h; acct.count()\n",
    "    P3 = (c+d)*e; acct.count()\n",
    "    P4 = d*(g-e); acct.count()    \n",
    "    P5 = (a+d)*(e+h); acct.count()   \n",
    "    P6 = (b-d)*(g+h); acct.count()    \n",
    "    P7 = (a-c)*(e+f); acct.count()       \n",
    "        \n",
    "    #r = P5 + P4 - P2 + P6\n",
    "    C[0,0] = P5 + P4 - P2 + P6; acct.count()\n",
    "    #s = P1 + P2\n",
    "    C[0,1]  = P1 + P2; acct.count()\n",
    "    #t = P3 + P4\n",
    "    C[1,0] = P3 + P4; acct.count()\n",
    "    #u = P5 + P1 - P3 - P7\n",
    "    C[1,1] = P5 + P1 - P3 - P7; acct.count()\n",
    "    \n",
    "    acct.count()\n",
    "    return C"
   ]
  },
  {
   "cell_type": "code",
   "execution_count": 122,
   "metadata": {
    "collapsed": true
   },
   "outputs": [],
   "source": [
    "def strassenMatP_A( A, B, acct ):\n",
    "    #Si la matriz es impar convertirla en matrices cuadradas pares del mismo tamaño\n",
    "    sizes = [len(A),len(A[0,:]),len(B),len(B[0,:])]; acct.count()\n",
    "    A = reSizeMatA( A, max(sizes), acct); acct.count()\n",
    "    B = reSizeMatA( B, max(sizes), acct); acct.count()\n",
    "    #si la matriz es tam 2\n",
    "    acct.count()\n",
    "    if len(A) == 2:\n",
    "        acct.count()\n",
    "        return strassensIdeaA(A,B, acct); acct.count()\n",
    "    else:\n",
    "        acct.count()\n",
    "        #Repartir las 4 submatrices\n",
    "        a = subMatA( A, [0,len(A)/2,0,len(A)/2], acct ); acct.count()\n",
    "        b = subMatA( A, [0,len(A)/2,len(A)/2,len(A)], acct ); acct.count()\n",
    "        c = subMatA( A, [len(A)/2,len(A),0,len(A)/2], acct ); acct.count()\n",
    "        d = subMatA( A, [len(A)/2,len(A),len(A)/2,len(A)], acct ); acct.count()\n",
    "\n",
    "        e = subMatA( B, [0,len(B)/2,0,len(B)/2], acct ); acct.count()\n",
    "        f = subMatA( B, [0,len(B)/2,len(B)/2,len(B)], acct ); acct.count()\n",
    "        g = subMatA( B, [len(B)/2,len(B),0,len(B)/2], acct ); acct.count()\n",
    "        h = subMatA( B, [len(B)/2,len(B),len(B)/2,len(B)], acct ); acct.count()\n",
    "\n",
    "        #Metodo Strassen\n",
    "        #P1 = a*(f-h)\n",
    "        P1 = strassenMatP_A( a, f-h, acct ); acct.count()\n",
    "        #P2 = (a+b)*h\n",
    "        P2 = strassenMatP_A( a+b, h, acct ); acct.count()\n",
    "        #P3 = (c+d)*e\n",
    "        P3 = strassenMatP_A( c+d, e, acct ); acct.count()\n",
    "        #P4 = d*(g-e)\n",
    "        P4 = strassenMatP_A( d, g-e, acct ); acct.count()\n",
    "        #P5 = (a+d)*(e+h)\n",
    "        P5 = strassenMatP_A( a+d, e+h, acct ); acct.count()\n",
    "        #P6 = (b-d)*(g+h)\n",
    "        P6 = strassenMatP_A( b-d, g+h, acct ); acct.count()\n",
    "        #P7 = (a-c)*(e+f)\n",
    "        P7 = strassenMatP_A( a-c, e+f, acct ); acct.count()     \n",
    "        \n",
    "        #r = P5 + P4 - P2 + P6\n",
    "        r = P5 + P4 - P2 + P6; acct.count()\n",
    "        #s = P1 + P2\n",
    "        s = P1 + P2; acct.count()\n",
    "        #t = P3 + P4\n",
    "        t = P3 + P4; acct.count()\n",
    "        #u = P5 + P1 - P3 - P7\n",
    "        u = P5 + P1 - P3 - P7; acct.count()\n",
    "        \n",
    "        #concatenar r s t u asia C\n",
    "        C = np.zeros_like(A); acct.count()\n",
    "        C = supraMatA( C, r, [0,len(A)/2,0,len(A)/2],acct ); acct.count()\n",
    "        C = supraMatA( C, s, [0,len(A)/2,len(A)/2,len(A)],acct ); acct.count()\n",
    "        C = supraMatA( C, t, [len(A)/2,len(A),0,len(A)/2],acct ); acct.count()\n",
    "        C = supraMatA( C, u, [len(B)/2,len(B),len(B)/2,len(B)],acct ); acct.count()\n",
    "        acct.count()\n",
    "        return C\n",
    "    "
   ]
  },
  {
   "cell_type": "code",
   "execution_count": 123,
   "metadata": {
    "collapsed": true
   },
   "outputs": [],
   "source": [
    "def strassenMethod_A( A, B, acct ):\n",
    "    C = strassenMatP_A( A, B, acct )\n",
    "    rowA = len(A); acct.count()\n",
    "    colB = len(B[1,:]); acct.count()\n",
    "    D = np.empty((rowA,colB)); acct.count()\n",
    "    acct.count()\n",
    "    for i in range(rowA):\n",
    "        acct.count()\n",
    "        for j in range(colB):\n",
    "            acct.count()\n",
    "            D[i,j] = C[i,j]; acct.count()\n",
    "    acct.count()\n",
    "    return D"
   ]
  },
  {
   "cell_type": "code",
   "execution_count": 124,
   "metadata": {
    "collapsed": true
   },
   "outputs": [],
   "source": [
    "def analysisPM_MS(n):\n",
    "    results = []\n",
    "    acct = Counter()\n",
    "    for i in range(2,n+2):\n",
    "        acct.reset()\n",
    "        A = np.arange(i*i).reshape(i,i)\n",
    "        B = np.arange(i*i).reshape(i,i)\n",
    "        strassenMethod_A(A,B,acct)\n",
    "        results.append(acct.steps)\n",
    "    return results"
   ]
  },
  {
   "cell_type": "code",
   "execution_count": 125,
   "metadata": {
    "collapsed": false
   },
   "outputs": [
    {
     "name": "stdout",
     "output_type": "stream",
     "text": [
      "[69, 664, 705, 4986, 5051, 5498, 5587, 35758, 35871, 36574]\n"
     ]
    }
   ],
   "source": [
    "print analysisPM_MS(10)"
   ]
  },
  {
   "cell_type": "markdown",
   "metadata": {},
   "source": [
    "<h5>Gráfica de los 3 tipos de producto de matriz</h5>"
   ]
  },
  {
   "cell_type": "code",
   "execution_count": 135,
   "metadata": {
    "collapsed": false
   },
   "outputs": [
    {
     "data": {
      "text/plain": [
       "[<matplotlib.lines.Line2D at 0x7ff1d006eed0>]"
      ]
     },
     "execution_count": 135,
     "metadata": {},
     "output_type": "execute_result"
    },
    {
     "data": {
      "image/png": "[encoded data removed]",
      "text/plain": [
       "<matplotlib.figure.Figure at 0x7ff1d0098550>"
      ]
     },
     "metadata": {},
     "output_type": "display_data"
    }
   ],
   "source": [
    "pl.clf()\n",
    "pl.title('Multiplicacion de Matrices')\n",
    "pl.xlabel('Tam Matriz')\n",
    "pl.ylabel('Cantidad de Operaciones')\n",
    "x = np.arange(100)\n",
    "y1 = np.array(analysisPM(100))\n",
    "y2 = np.array(analysisPM_DV(100))\n",
    "y3 = np.array(analysisPM_MS(100))\n",
    "pl.plot(x, y1, 'r.')\n",
    "pl.plot(x, y2, 'g.')\n",
    "pl.plot(x, y3, 'b.')"
   ]
  },
  {
   "cell_type": "markdown",
   "metadata": {},
   "source": [
    "# Bibliografia\n",
    "[1] A. Paz Valderrama, \"divide y vencerás\", YouTube, 2017. [Online]. Available: https://www.youtube.com/watch?v=63uo79Swd3Q&t=1675s. [Accessed: 19- Mar- 2017]."
   ]
  },
  {
   "cell_type": "code",
   "execution_count": null,
   "metadata": {
    "collapsed": true
   },
   "outputs": [],
   "source": []
  }
 ],
 "metadata": {
  "kernelspec": {
   "display_name": "Python 2",
   "language": "python",
   "name": "python2"
  },
  "language_info": {
   "codemirror_mode": {
    "name": "ipython",
    "version": 2
   },
   "file_extension": ".py",
   "mimetype": "text/x-python",
   "name": "python",
   "nbconvert_exporter": "python",
   "pygments_lexer": "ipython2",
   "version": "2.7.13"
  }
 },
 "nbformat": 4,
 "nbformat_minor": 2
}
