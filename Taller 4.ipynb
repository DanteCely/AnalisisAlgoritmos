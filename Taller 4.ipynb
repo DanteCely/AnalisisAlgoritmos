{
 "cells": [
  {
   "cell_type": "markdown",
   "metadata": {},
   "source": [
    "# Taller 4"
   ]
  },
  {
   "cell_type": "markdown",
   "metadata": {},
   "source": [
    "<h4>1. Implemente un método que retorne la subsecuencia común más larga (SCL) apartir de la matriz C construida por el algoritmo de PD que calcula la longitud de la SCL.</h4>"
   ]
  },
  {
   "cell_type": "code",
   "execution_count": 177,
   "metadata": {
    "collapsed": false
   },
   "outputs": [],
   "source": [
    "import numpy as np\n",
    "\n",
    "global C\n",
    "\n",
    "def path_lcs(i,j,longer):\n",
    "    path = ''\n",
    "    while i >= 0 and j >= 0 and C[i][j] > 0:\n",
    "        if C[i][j] == C[i][j-1]:\n",
    "            j=j-1\n",
    "        if C[i][j] == C[i-1][j]:\n",
    "            i-=1    \n",
    "        path+=longer[j-1]\n",
    "        i-=1\n",
    "        j-=1\n",
    "        \n",
    "    pathR = ''\n",
    "    for i in reversed(path):\n",
    "        pathR+=i\n",
    "    return pathR    \n",
    "\n",
    "def lcs3(x,y,i,j):\n",
    "    global C\n",
    "    if C[i,j] == -1:\n",
    "        if i == 0 or j == 0:\n",
    "            C[i,j] = 0\n",
    "        else:\n",
    "            if x[i-1]==y[j-1]:\n",
    "                C[i,j] = lcs3(x,y,i-1,j-1)+1                \n",
    "            else:\n",
    "                C[i,j] = max(lcs3(x,y,i-1,j),lcs3(x,y,i,j-1))\n",
    "                \n",
    "    return C[i,j]\n",
    "\n",
    "def lcs(X,Y):\n",
    "    global C\n",
    "    C = np.ones((len(X)+1,len(Y)+1))*-1\n",
    "    lcs3(X,Y,len(X),len(Y))\n",
    "    return path_lcs(len(X),len(Y),Y), C[len(X),len(Y)], C"
   ]
  },
  {
   "cell_type": "code",
   "execution_count": 178,
   "metadata": {
    "collapsed": false,
    "scrolled": false
   },
   "outputs": [],
   "source": [
    "path_lcs, len_lcs, lcs_mat = lcs('springtime','printing')"
   ]
  },
  {
   "cell_type": "code",
   "execution_count": 179,
   "metadata": {
    "collapsed": false
   },
   "outputs": [
    {
     "name": "stdout",
     "output_type": "stream",
     "text": [
      "printin\n"
     ]
    }
   ],
   "source": [
    "print path_lcs"
   ]
  },
  {
   "cell_type": "markdown",
   "metadata": {},
   "source": [
    "<h4>2. Para el problema del corte de la barilla (Notebook): https://github.com/ejake/algorithm_analysis/blob/master/Rod-cutting.ipynb</h4>"
   ]
  },
  {
   "cell_type": "markdown",
   "metadata": {},
   "source": [
    "<h6>Implemente un método para determinar los cortes que se deben realizar a partir de la solución de PD que encuentra el valor de la solución óptima.</h6>"
   ]
  },
  {
   "cell_type": "code",
   "execution_count": 266,
   "metadata": {
    "collapsed": false
   },
   "outputs": [],
   "source": [
    "import math\n",
    "import numpy as np\n",
    "import pylab as pl\n",
    "%matplotlib inline"
   ]
  },
  {
   "cell_type": "markdown",
   "metadata": {},
   "source": [
    "Implementación simple de arriba hacia abajo (top-down)"
   ]
  },
  {
   "cell_type": "code",
   "execution_count": 267,
   "metadata": {
    "collapsed": true
   },
   "outputs": [],
   "source": [
    "def cut_rodR(p, n):\n",
    "    if n==0:\n",
    "        return 0\n",
    "    q = float('-inf')\n",
    "    for i in range(n):\n",
    "        #print i\n",
    "        q = max(q, p[i] + cut_rodR(p, n-1-i))\n",
    "    return q"
   ]
  },
  {
   "cell_type": "code",
   "execution_count": 268,
   "metadata": {
    "collapsed": true
   },
   "outputs": [],
   "source": [
    "p = [1,5,8,9,10,17,17,20,24,30]"
   ]
  },
  {
   "cell_type": "code",
   "execution_count": 269,
   "metadata": {
    "collapsed": false
   },
   "outputs": [
    {
     "name": "stdout",
     "output_type": "stream",
     "text": [
      "22\n"
     ]
    }
   ],
   "source": [
    "sol = cut_rodR(p,8)\n",
    "print sol"
   ]
  },
  {
   "cell_type": "markdown",
   "metadata": {},
   "source": [
    "Implementación de arriba hacia abajo con memorización (memoization)"
   ]
  },
  {
   "cell_type": "code",
   "execution_count": 270,
   "metadata": {
    "collapsed": true
   },
   "outputs": [],
   "source": [
    "def memo_cut_rodTD(p, n):\n",
    "    r = [-1] * (n+1)\n",
    "    return memo_cut_rodTD_aux(p,n,r)\n",
    "\n",
    "def memo_cut_rodTD_aux(p,n,r):\n",
    "    if r[n] >= 0:\n",
    "        return r[n]\n",
    "    if n == 0:\n",
    "        q = 0\n",
    "    else:\n",
    "        q = float('-inf')\n",
    "        for i in range(1,n+1):\n",
    "            q = max(q, p[i-1]+memo_cut_rodTD_aux(p,n-i,r))\n",
    "    r[n]=q\n",
    "    return q"
   ]
  },
  {
   "cell_type": "code",
   "execution_count": 271,
   "metadata": {
    "collapsed": false
   },
   "outputs": [
    {
     "name": "stdout",
     "output_type": "stream",
     "text": [
      "30\n"
     ]
    }
   ],
   "source": [
    "sol = memo_cut_rodTD(p,10)\n",
    "print sol"
   ]
  },
  {
   "cell_type": "markdown",
   "metadata": {},
   "source": [
    "Implementación abajo hacia arriba (bottom-up) con memorización"
   ]
  },
  {
   "cell_type": "code",
   "execution_count": 272,
   "metadata": {
    "collapsed": true
   },
   "outputs": [],
   "source": [
    "def memo_cut_rodBU(p,n):\n",
    "    r = [0] * (n+1)\n",
    "    r[0] = 0\n",
    "    for j in range(1,n+1):\n",
    "        q = float('-inf')\n",
    "        for i in range(1,j+1):            \n",
    "            q = max(q, p[i-1]+r[j-i])\n",
    "        r[j] = q\n",
    "    return r[n]"
   ]
  },
  {
   "cell_type": "code",
   "execution_count": 273,
   "metadata": {
    "collapsed": false
   },
   "outputs": [
    {
     "name": "stdout",
     "output_type": "stream",
     "text": [
      "22\n"
     ]
    }
   ],
   "source": [
    "sol = memo_cut_rodBU(p,8)\n",
    "print sol"
   ]
  },
  {
   "cell_type": "markdown",
   "metadata": {},
   "source": [
    "Análisis de los 3 algoritmos"
   ]
  },
  {
   "cell_type": "code",
   "execution_count": 274,
   "metadata": {
    "collapsed": false
   },
   "outputs": [],
   "source": [
    "p = [1,5,8,9,10,17,17,20,24,30,31,35,38,39,40,47,47,50,54,60,61,65,68,69,70,77,77,80,84,90,91,95,98,99,100,107,107,110,114,120,121,125,128,129,130,137,137,140,144,150]\n",
    "n = 5"
   ]
  },
  {
   "cell_type": "markdown",
   "metadata": {},
   "source": [
    "<h6>Realice una comparación experimental sistemática de los algoritmos para diferentes valores de p y de n.</h6>"
   ]
  },
  {
   "cell_type": "code",
   "execution_count": 275,
   "metadata": {
    "collapsed": true
   },
   "outputs": [],
   "source": [
    "def Recalculatedtime(t1,t2):    \n",
    "    return t2 - t1"
   ]
  },
  {
   "cell_type": "code",
   "execution_count": 276,
   "metadata": {
    "collapsed": true
   },
   "outputs": [],
   "source": [
    "#Gráfica simple (top-down)\n",
    "import time\n",
    "def analysis_time_Simple_td(n,p):\n",
    "    results = []\n",
    "    for i in range(n,len(p)):\n",
    "        new_p = [p[j] for j in range(i)]\n",
    "        tic = time.clock()#get start time\n",
    "        cut_rodR(new_p,n)\n",
    "        toc = time.clock()#get final time\n",
    "        results.append(Recalculatedtime(tic,toc))\n",
    "    return results"
   ]
  },
  {
   "cell_type": "code",
   "execution_count": 277,
   "metadata": {
    "collapsed": true
   },
   "outputs": [],
   "source": [
    "#Gráfica Memorization(top-bottom)\n",
    "import time\n",
    "def analysis_time_M_tb(n,p):\n",
    "    results = []\n",
    "    for i in range(n,len(p)):\n",
    "        new_p = [p[j] for j in range(i)]\n",
    "        tic = time.clock()#get start time\n",
    "        memo_cut_rodBU(new_p,n)\n",
    "        toc = time.clock()#get final time\n",
    "        results.append(Recalculatedtime(tic,toc))\n",
    "    return results"
   ]
  },
  {
   "cell_type": "code",
   "execution_count": 278,
   "metadata": {
    "collapsed": true
   },
   "outputs": [],
   "source": [
    "#Gráfica Memorization(bottom-up)\n",
    "import time\n",
    "def analysis_time_M_bt(n,p):\n",
    "    results = []\n",
    "    for i in range(n,len(p)):\n",
    "        new_p = [p[j] for j in range(i)]\n",
    "        tic = time.clock()#get start time\n",
    "        cut_rodR(new_p,n)\n",
    "        toc = time.clock()#get final time\n",
    "        results.append(Recalculatedtime(tic,toc))\n",
    "    return results"
   ]
  },
  {
   "cell_type": "code",
   "execution_count": 279,
   "metadata": {
    "collapsed": false
   },
   "outputs": [
    {
     "data": {
      "text/plain": [
       "[<matplotlib.lines.Line2D at 0x7f028d2009d0>]"
      ]
     },
     "execution_count": 279,
     "metadata": {},
     "output_type": "execute_result"
    },
    {
     "data": {
      "image/png": "[encoded data removed]",
      "text/plain": [
       "<matplotlib.figure.Figure at 0x7f028d067b90>"
      ]
     },
     "metadata": {},
     "output_type": "display_data"
    }
   ],
   "source": [
    "pl.clf()\n",
    "lt = pl.title('simple (top-down) RED vs Memorization(top-bottom) GREEN vs Memorization(bottom-up) BLUE')\n",
    "lx = pl.xlabel('Size')\n",
    "ly = pl.ylabel('Time (sec)')\n",
    "x = np.arange(len(p)-n)\n",
    "y1 = np.array(analysis_time_Simple_td(n,p))\n",
    "y2 = np.array(analysis_time_M_tb(n,p))\n",
    "y3 = np.array(analysis_time_M_bt(n,p))\n",
    "pl.plot(x, y1, 'r.')\n",
    "pl.plot(x, y2, 'g.')\n",
    "pl.plot(x, y3, 'b.')"
   ]
  },
  {
   "cell_type": "markdown",
   "metadata": {},
   "source": [
    "<h4>3. Implemente, describa y analice un algoritmo de PD para calcular la distancia de edición entre dos cadenas. (Cormen, problem 15-5)</h4>"
   ]
  },
  {
   "cell_type": "code",
   "execution_count": 283,
   "metadata": {
    "collapsed": false
   },
   "outputs": [],
   "source": [
    "#Tomado de https://walkccc.gitbooks.io/clrs/content/Chap15/15.5.html\n",
    "def CONSTRUCT_OPTIMAL_BST(root, i, j, last):\n",
    "    if i == j:\n",
    "        return\n",
    "    if last == 0:\n",
    "        print root[i, j] + \"is the root\"\n",
    "    elif j < last:\n",
    "        print root[i, j] + \"is the left child of\" + last\n",
    "    else:\n",
    "        print root[i, j] + \"is the right child of\" + last\n",
    "    CONSTRUCT_OPTIMAL_BST(root, i, root[i, j] - 1, root[i, j])\n",
    "    CONSTRUCT_OPTIMAL_BST(root, root[i, j] + 1, j, root[i, j])"
   ]
  },
  {
   "cell_type": "markdown",
   "metadata": {},
   "source": [
    "<h4>4. En el rio atrato hay n embarcaderos, en cada uno de ellos se puede alquilar un bote para realizar un viaje rio abajo a otro embarcadero. Existe una tabla de tarifas que indica el costo del viaje del embarcadero i al j, para i, j = 1,2,...,n  (i menor j), puede pasar que un viaje de i a j sea más caro que una serie de viajes sucesivos intermedios, no hay un costo asociado a cambiar de bote en algún embarcadero. El problema consiste en diseñar un algoritmo de PD que determine el costo mínimo para cada par de puntos i,j.</h4>"
   ]
  },
  {
   "cell_type": "code",
   "execution_count": 298,
   "metadata": {
    "collapsed": true
   },
   "outputs": [],
   "source": [
    "def mini(A,i,j,tablaTarifas,cantPuertos):\n",
    "    k=0\n",
    "    elMin=j\n",
    "    for k in range(i+1,cantPuertos):\n",
    "        elMin=min(elMin,tablaTarifas[i,k]+A[k][j])\n",
    "    return elMin\n",
    "\n",
    "\n",
    "def costoMin(tablaTarifas,cantPuertos):\n",
    "    A=np.zeros((cantPuertos,cantPuertos))\n",
    "    l = cantPuertos\n",
    "    for l in range (1, cantPuertos-1):\n",
    "        for i in range(1,cantPuertos-l):\n",
    "            n=int(i+l);\n",
    "            A[i][n]= mini(A,i,i+l,tablaTarifas,cantPuertos)\n",
    "    return A"
   ]
  },
  {
   "cell_type": "code",
   "execution_count": null,
   "metadata": {
    "collapsed": true
   },
   "outputs": [],
   "source": []
  }
 ],
 "metadata": {
  "kernelspec": {
   "display_name": "Python 2",
   "language": "python",
   "name": "python2"
  },
  "language_info": {
   "codemirror_mode": {
    "name": "ipython",
    "version": 2
   },
   "file_extension": ".py",
   "mimetype": "text/x-python",
   "name": "python",
   "nbconvert_exporter": "python",
   "pygments_lexer": "ipython2",
   "version": "2.7.13"
  }
 },
 "nbformat": 4,
 "nbformat_minor": 2
}
