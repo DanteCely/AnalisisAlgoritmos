{
 "cells": [
  {
   "cell_type": "code",
   "execution_count": null,
   "metadata": {
    "collapsed": true
   },
   "outputs": [],
   "source": [
    "#tranforma la cadena x en la cadena y\n",
    "def d(x,y):\n",
    "    #almacena los resultados intermedios\n",
    "    z = x\n",
    "    \n",
    "    #izquierda 0\n",
    "    if i>0:\n",
    "        i=i-1\n",
    "    #derecha 0\n",
    "    if i<s:\n",
    "        i=1+1\n",
    "    #remplazar 4\n",
    "    if i<s:\n",
    "        z[i]=c #c quien es?\n",
    "        i=1+1\n",
    "    #eliminar 2\n",
    "    if i<s:\n",
    "        z[i] #eliminar posicion\n",
    "    #insertar 3\n",
    "        #insertar\n",
    "        i=i+1\n",
    "        \n",
    "        algorithm\n",
    "        \n",
    "        algorithm\n",
    "        \n",
    "        analysis\n",
    "    "
   ]
  },
  {
   "cell_type": "code",
   "execution_count": 11,
   "metadata": {
    "collapsed": false
   },
   "outputs": [
    {
     "name": "stdout",
     "output_type": "stream",
     "text": [
      "[ 1  3 23]\n"
     ]
    }
   ],
   "source": [
    "import numpy as np\n",
    "A = [1,2,3]\n",
    "B = np.append(A,[23])\n",
    "C = np.delete(B,1)\n",
    "print C"
   ]
  },
  {
   "cell_type": "code",
   "execution_count": null,
   "metadata": {
    "collapsed": true
   },
   "outputs": [],
   "source": []
  },
  {
   "cell_type": "code",
   "execution_count": null,
   "metadata": {
    "collapsed": true
   },
   "outputs": [],
   "source": []
  }
 ],
 "metadata": {
  "kernelspec": {
   "display_name": "Python 2",
   "language": "python",
   "name": "python2"
  },
  "language_info": {
   "codemirror_mode": {
    "name": "ipython",
    "version": 2
   },
   "file_extension": ".py",
   "mimetype": "text/x-python",
   "name": "python",
   "nbconvert_exporter": "python",
   "pygments_lexer": "ipython2",
   "version": "2.7.13"
  }
 },
 "nbformat": 4,
 "nbformat_minor": 2
}
