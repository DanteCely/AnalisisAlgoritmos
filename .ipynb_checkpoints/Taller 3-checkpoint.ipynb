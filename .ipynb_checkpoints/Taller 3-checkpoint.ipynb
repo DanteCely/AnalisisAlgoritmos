{
 "cells": [
  {
   "cell_type": "markdown",
   "metadata": {
    "collapsed": true
   },
   "source": [
    "# Taller 3"
   ]
  },
  {
   "cell_type": "markdown",
   "metadata": {},
   "source": [
    "<h5>Dados n enteros a_1,a_2,...,a_n, necesitamos encontrar el valor de la expresión:</h5>\n",
    "<h6>max_{1≤ i≤ j ≤n}{\\sum_{k=i}^ja_k} que calcula el máximo de las sumas parciales de elementos consecutivos.  e.g, dados los 6 enteros (–2,11,–4,13,–5,–2) la solución al problema es 20 (suma de a_2 hasta a_4).</h6>"
   ]
  },
  {
   "cell_type": "markdown",
   "metadata": {},
   "source": [
    "<h4>1. Implemente un algoritmo trivial para solucionar el problema en tiempo O(n^3)</h4>"
   ]
  },
  {
   "cell_type": "code",
   "execution_count": 59,
   "metadata": {
    "collapsed": true
   },
   "outputs": [],
   "source": [
    "import numpy as np"
   ]
  },
  {
   "cell_type": "code",
   "execution_count": 60,
   "metadata": {
    "collapsed": false
   },
   "outputs": [],
   "source": [
    "def maxValue(A):\n",
    "    n = len(A)\n",
    "    partialSums = []\n",
    "    for i in range(n):\n",
    "        for j in range(i+1,n):\n",
    "            partialSums.append( sum(A[k] for k in range(i,j)) )\n",
    "    return max(partialSums)      "
   ]
  },
  {
   "cell_type": "code",
   "execution_count": 61,
   "metadata": {
    "collapsed": false
   },
   "outputs": [
    {
     "name": "stdout",
     "output_type": "stream",
     "text": [
      "20\n"
     ]
    }
   ],
   "source": [
    "A = [-2,11,-4,13,-5,-2]\n",
    "print maxValue(A)"
   ]
  },
  {
   "cell_type": "markdown",
   "metadata": {},
   "source": [
    "<h4>2. Implemente un algoritmo dividir y conquistar para solucionar el problema en tiempo O(n\\log n), como lo sugirió en el parcial.</h4>"
   ]
  },
  {
   "cell_type": "code",
   "execution_count": 1,
   "metadata": {
    "collapsed": false
   },
   "outputs": [],
   "source": [
    "SMALLVALUE = -1000\n",
    "def maxValue_divEtImpera(A,i,j):\n",
    "    if i > j:\n",
    "        return 0\n",
    "    \n",
    "    if i == j:\n",
    "        return max(SMALLVALUE,A[i])\n",
    "    \n",
    "    half = (i + j)/2\n",
    "    maximum = max(maxValue_divEtImpera(A,i,half),maxValue_divEtImpera(A,half+1,j))\n",
    "    \n",
    "    maxLeft = SMALLVALUE\n",
    "    partialSum = 0\n",
    "    for k in range(half,i,-1):\n",
    "        partialSum = partialSum+A[k]\n",
    "        maxLeft = max(maxLeft,partialSum)   \n",
    "        \n",
    "    maxRight = SMALLVALUE\n",
    "    partialSum = 0\n",
    "    for k in range(half+1,j):\n",
    "        partialSum = partialSum+A[k]\n",
    "        maxRight = max(maxRight,partialSum)  \n",
    "        \n",
    "    return max(maxRight+maxLeft,maximum)"
   ]
  },
  {
   "cell_type": "code",
   "execution_count": 2,
   "metadata": {
    "collapsed": false
   },
   "outputs": [
    {
     "name": "stdout",
     "output_type": "stream",
     "text": [
      "20\n"
     ]
    }
   ],
   "source": [
    "A = [-2,11,-4,13,-5,-2]\n",
    "n = len(A)\n",
    "print maxValue_divEtImpera(A,0,n-1)"
   ]
  },
  {
   "cell_type": "markdown",
   "metadata": {
    "collapsed": true
   },
   "source": [
    "<h5> 3. Implemente el siguiente algoritmo (J.L. Bentley, 1989.)</h5>"
   ]
  },
  {
   "cell_type": "code",
   "execution_count": 64,
   "metadata": {
    "collapsed": false
   },
   "outputs": [],
   "source": [
    "def Sumamax3(a,prim,ult):\n",
    "    #*Casos bases*\n",
    "    if prim > ult:\n",
    "        return 0\n",
    "    if prim == ult:\n",
    "        return max(0,a[prim])\n",
    "    mitad = (prim + ult)/2\n",
    "    #*Casos 1 y 2*\n",
    "    max_aux = max(Sumamax3(a,prim,mitad),Sumamax3(a,mitad+1,ult))\n",
    "    #*Caso 3: parte izquierda*\n",
    "    max_izq = 0\n",
    "    suma = 0\n",
    "    for i in range(mitad,prim,-1):\n",
    "        suma = suma+a[i]\n",
    "        max_izq = max(max_izq,suma)    \n",
    "    #*Caso 3: parte derecha*\n",
    "    max_der = 0\n",
    "    suma = 0\n",
    "    for i in range(mitad+1,ult):\n",
    "        suma = suma+a[i]\n",
    "        max_der = max(max_der,suma)  \n",
    "    #*Combinacion de resultados*\n",
    "    return max(max_der+max_izq,max_aux)"
   ]
  },
  {
   "cell_type": "code",
   "execution_count": 65,
   "metadata": {
    "collapsed": false
   },
   "outputs": [
    {
     "name": "stdout",
     "output_type": "stream",
     "text": [
      "20\n"
     ]
    }
   ],
   "source": [
    "A = [-2,11,-4,13,-5,-2]\n",
    "n = len(A)\n",
    "print Sumamax3(A,0,n-1)"
   ]
  }
 ],
 "metadata": {
  "kernelspec": {
   "display_name": "Python 2",
   "language": "python",
   "name": "python2"
  },
  "language_info": {
   "codemirror_mode": {
    "name": "ipython",
    "version": 2
   },
   "file_extension": ".py",
   "mimetype": "text/x-python",
   "name": "python",
   "nbconvert_exporter": "python",
   "pygments_lexer": "ipython2",
   "version": "2.7.13"
  }
 },
 "nbformat": 4,
 "nbformat_minor": 2
}
