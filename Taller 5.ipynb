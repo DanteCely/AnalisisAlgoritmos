{
 "cells": [
  {
   "cell_type": "markdown",
   "metadata": {},
   "source": [
    "# Grafos y algoritmos voraces"
   ]
  },
  {
   "cell_type": "code",
   "execution_count": 33,
   "metadata": {
    "collapsed": true
   },
   "outputs": [],
   "source": [
    "import math\n",
    "import numpy as np\n",
    "import pylab as pl\n",
    "%matplotlib inline"
   ]
  },
  {
   "cell_type": "markdown",
   "metadata": {},
   "source": [
    "<h4>1. Implemente el algoritmo de búsqueda en profundidad (DFS) y pruebelo para recorrer el grafo del laberinto de pacman.</h4>"
   ]
  },
  {
   "cell_type": "code",
   "execution_count": 24,
   "metadata": {
    "collapsed": false
   },
   "outputs": [],
   "source": [
    "graph = {'A': set(['B', 'C','D']),\n",
    "         'B': set(['A', 'D', 'E']),\n",
    "         'C': set(['A', 'F']),\n",
    "         'D': set(['B']),\n",
    "         'E': set(['B', 'F']),\n",
    "         'F': set(['C', 'E'])}\n",
    "vertex = ['A','B','C','D','E','F']"
   ]
  },
  {
   "cell_type": "code",
   "execution_count": 25,
   "metadata": {
    "collapsed": true
   },
   "outputs": [],
   "source": [
    "#tomado de: http://eddmann.com/posts/depth-first-search-and-breadth-first-search-in-python/\n",
    "def dfs_Graph(graph, start):\n",
    "    visited, stack = set(), [start]\n",
    "    while stack:\n",
    "        vertex = stack.pop()\n",
    "        if vertex not in visited:\n",
    "            visited.add(vertex)\n",
    "            stack.extend(graph[vertex] - visited)\n",
    "    return visited"
   ]
  },
  {
   "cell_type": "code",
   "execution_count": 26,
   "metadata": {
    "collapsed": false
   },
   "outputs": [
    {
     "data": {
      "text/plain": [
       "{'A', 'B', 'C', 'D', 'E', 'F'}"
      ]
     },
     "execution_count": 26,
     "metadata": {},
     "output_type": "execute_result"
    }
   ],
   "source": [
    "dfs_Graph(graph, 'D')"
   ]
  },
  {
   "cell_type": "markdown",
   "metadata": {},
   "source": [
    "<h4>2. Realice el análisis del tiempo de ejecución del algoritmo DFS, justifiquelo.</h4>"
   ]
  },
  {
   "cell_type": "code",
   "execution_count": 27,
   "metadata": {
    "collapsed": true
   },
   "outputs": [],
   "source": [
    "def Recalculatedtime(t1,t2):    \n",
    "    return t2 - t1"
   ]
  },
  {
   "cell_type": "code",
   "execution_count": 35,
   "metadata": {
    "collapsed": true
   },
   "outputs": [],
   "source": [
    "#Gráfica Insertion Size vs Time\n",
    "import random as rnd\n",
    "import time\n",
    "\n",
    "def analysis_time_DFS_Graph(graph,vertex):\n",
    "    results = []\n",
    "    for i in range(len(vertex)):\n",
    "        tic = time.clock()#get start time\n",
    "        dfs_Graph(graph, vertex[i])\n",
    "        toc = time.clock()#get final time\n",
    "        results.append(Recalculatedtime(tic,toc))\n",
    "    return results"
   ]
  },
  {
   "cell_type": "code",
   "execution_count": 36,
   "metadata": {
    "collapsed": false
   },
   "outputs": [
    {
     "name": "stdout",
     "output_type": "stream",
     "text": [
      "[3.599999999992498e-05, 6.0999999999866716e-05, 1.7999999999851468e-05, 1.5000000000098268e-05, 0.00010099999999990672, 1.6999999999933735e-05]\n"
     ]
    }
   ],
   "source": [
    "print analysis_time_DFS_Graph(graph,vertex)"
   ]
  },
  {
   "cell_type": "code",
   "execution_count": 37,
   "metadata": {
    "collapsed": false
   },
   "outputs": [
    {
     "data": {
      "text/plain": [
       "[<matplotlib.lines.Line2D at 0x7f3736864cd0>]"
      ]
     },
     "execution_count": 37,
     "metadata": {},
     "output_type": "execute_result"
    },
    {
     "data": {
      "image/png": "[encoded data removed]",
      "text/plain": [
       "<matplotlib.figure.Figure at 0x7f375c4e9150>"
      ]
     },
     "metadata": {},
     "output_type": "display_data"
    }
   ],
   "source": [
    "pl.clf()\n",
    "lt = pl.title('DFS Size vs Time ')\n",
    "lx = pl.xlabel('Size')\n",
    "ly = pl.ylabel('Time (sec)')\n",
    "xit = np.arange(len(vertex))\n",
    "yit = np.array(analysis_time_DFS_Graph(graph,vertex))\n",
    "pl.plot(xit, yit, 'r^')"
   ]
  },
  {
   "cell_type": "markdown",
   "metadata": {},
   "source": [
    "<h4>3. Diseñe e implemente un algoritmo que identifique ciclos en un grafo.</h4>"
   ]
  },
  {
   "cell_type": "code",
   "execution_count": 49,
   "metadata": {
    "collapsed": true
   },
   "outputs": [],
   "source": [
    "#Grafo con ciclo\n",
    "g1 = {1: [2, 3],\n",
    "      2: [3,4],\n",
    "      3: [4,1]}\n",
    "\n",
    "#grafo sin ciclo\n",
    "g2 = {1: [2, 3],\n",
    "      2: [3,4],\n",
    "      3: [4]}\n"
   ]
  },
  {
   "cell_type": "code",
   "execution_count": 50,
   "metadata": {
    "collapsed": true
   },
   "outputs": [],
   "source": [
    "#tomado de: https://codereview.stackexchange.com/questions/86021/check-if-a-directed-graph-contains-a-cycle\n",
    "def tieneCiclo(g):\n",
    "    path = set()\n",
    "\n",
    "    def visit(vertex):\n",
    "        path.add(vertex)\n",
    "        for neighbour in g.get(vertex, ()):\n",
    "            if neighbour in path or visit(neighbour):\n",
    "                return True\n",
    "        path.remove(vertex)\n",
    "        return False\n",
    "\n",
    "    return any(visit(v) for v in g)"
   ]
  },
  {
   "cell_type": "code",
   "execution_count": 51,
   "metadata": {
    "collapsed": false
   },
   "outputs": [
    {
     "name": "stdout",
     "output_type": "stream",
     "text": [
      "grafo 1 tiene ciclo?  True\n",
      "grafo 2 tiene ciclo?  False\n"
     ]
    }
   ],
   "source": [
    "print 'grafo 1 tiene ciclo? ',tieneCiclo(g1)\n",
    "print 'grafo 2 tiene ciclo? ',tieneCiclo(g2)"
   ]
  }
 ],
 "metadata": {
  "kernelspec": {
   "display_name": "Python 2",
   "language": "python",
   "name": "python2"
  },
  "language_info": {
   "codemirror_mode": {
    "name": "ipython",
    "version": 2
   },
   "file_extension": ".py",
   "mimetype": "text/x-python",
   "name": "python",
   "nbconvert_exporter": "python",
   "pygments_lexer": "ipython2",
   "version": "2.7.13"
  }
 },
 "nbformat": 4,
 "nbformat_minor": 2
}
