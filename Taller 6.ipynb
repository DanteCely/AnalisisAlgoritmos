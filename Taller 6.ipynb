{
 "cells": [
  {
   "cell_type": "markdown",
   "metadata": {},
   "source": [
    "# Taller Ruta más corta"
   ]
  },
  {
   "cell_type": "markdown",
   "metadata": {},
   "source": [
    "1. Implemente un método para crear grafos aleatorios de $n$ vertices, donde con probabilidad $\\psi \\in [0,1]$ definira si exite una arista entre cada par de vertices $(i,j)$. El peso $\\omega(i,j) \\in [minw, maxw]$ se asignará de manera aleatoria uniformemente en el intervalo $[minw, maxw]$"
   ]
  },
  {
   "cell_type": "code",
   "execution_count": 79,
   "metadata": {
    "collapsed": false
   },
   "outputs": [],
   "source": [
    "class Graph:\n",
    "    #Simple graph implementation:\n",
    "    #Directed graph\n",
    "    #Without weight in the edges\n",
    "    #Edges can be repeated\n",
    " \n",
    "    def __init__(self):\n",
    "        self.graph = {}\n",
    " \n",
    "    def add_vertex(self, vertex):\n",
    "        #Add a vertex in the graph\n",
    "        #Overwrite the value\n",
    "        self.graph[vertex] = {}\n",
    " \n",
    "    def del_vertex(self, vertex):\n",
    "        #Remove the vertex if it's in the graph\n",
    "        try:\n",
    "            self.graph.pop(vertex)\n",
    "        except KeyError:\n",
    "            #Here vertex is not in graph\n",
    "            pass\n",
    "    def is_vertex(self, vertex):\n",
    "        #Return True if vertex is in the graph\n",
    "        #otherwise return False\n",
    "        try:\n",
    "            self.graph[vertex]\n",
    "            return True\n",
    "        except KeyError:\n",
    "            return False\n",
    " \n",
    "    def add_edge(self, vertex, edge, weight):\n",
    "        #Add a edge in vertex if vertex exists\n",
    "        try:\n",
    "            #self.graph[vertex].append(theEdge)\n",
    "            self.graph[vertex][edge] = weight\n",
    "        except KeyError:\n",
    "            #Here vertex is no in graph\n",
    "            pass\n",
    " \n",
    "    def delete_edge(self, vertex, edge):\n",
    "        #Remove a edge in vertex\n",
    "        try:\n",
    "            #self.graph[vertex].remove(edge)\n",
    "            self.graph[vertex].pop(edge)\n",
    "        except KeyError:\n",
    "            #Here vertex is not in graph\n",
    "            pass\n",
    "        except ValueError:\n",
    "            #Here the edge not exists\n",
    "            pass\n",
    " \n",
    "    def get_edge(self, vertex):\n",
    "        #Return the edges of a vertex if the vertex is in the graph\n",
    "        #Otherwise return None\n",
    "        try:\n",
    "            return self.graph[vertex]\n",
    "        except KeyError:\n",
    "            pass\n",
    " \n",
    "    def __str__(self):\n",
    "        #Print the vertex\n",
    "        s = \"Vertex -> Edges\\n\"\n",
    "        for k, v in self.graph.iteritems():\n",
    "            s+= \"%-6s -> %s\\n\" % (k, v)\n",
    "        return s"
   ]
  },
  {
   "cell_type": "code",
   "execution_count": 80,
   "metadata": {
    "collapsed": false
   },
   "outputs": [],
   "source": [
    "import random as rnd\n",
    "\n",
    "def randomGrah( nVertices, minw, maxw ):\n",
    "    graph = Graph()\n",
    "    #Agregar los vertices\n",
    "    for i in range(nVertices):\n",
    "        graph.add_vertex(i)\n",
    "    #Agregar las Aristas\n",
    "    for i in range(nVertices):\n",
    "        for j in range(nVertices):\n",
    "            if rnd.random() > 0.5:\n",
    "                #Añadir el peso\n",
    "                weight = rnd.randint(int(minw), int(maxw))\n",
    "                graph.add_edge(i, j, weight)\n",
    "    print graph"
   ]
  },
  {
   "cell_type": "code",
   "execution_count": 131,
   "metadata": {
    "collapsed": false
   },
   "outputs": [
    {
     "name": "stdout",
     "output_type": "stream",
     "text": [
      "Vertex -> Edges\n",
      "0      -> {0: 3, 2: 3, 3: 1}\n",
      "1      -> {0: 1}\n",
      "2      -> {2: 1, 3: 1}\n",
      "3      -> {3: 3}\n",
      "\n"
     ]
    }
   ],
   "source": [
    "nVertices = 4\n",
    "minw = 1\n",
    "maxw = 3\n",
    "randomGrah(nVertices,minw,maxw)"
   ]
  },
  {
   "cell_type": "markdown",
   "metadata": {},
   "source": [
    "Usando la libreria de uun Grafo para graficarlo"
   ]
  },
  {
   "cell_type": "code",
   "execution_count": 149,
   "metadata": {
    "collapsed": true
   },
   "outputs": [],
   "source": [
    "import random as rnd\n",
    "import matplotlib.pyplot as plt\n",
    "import networkx as nx\n",
    "\n",
    "def randomGrah2( nVertices, minw, maxw ):\n",
    "    G=nx.Graph()\n",
    "    #Agregar los vertices\n",
    "    v = range(nVertices)\n",
    "    G.add_nodes_from(v)\n",
    "    #Agregar las Aristas\n",
    "    for i in range(nVertices):\n",
    "        for j in range(nVertices):\n",
    "            if rnd.random() > 0.5:\n",
    "                #Añadir el peso\n",
    "                weight = rnd.randint(int(minw), int(maxw))\n",
    "                G.add_weighted_edges_from([(i,j,weight)])\n",
    "    return G"
   ]
  },
  {
   "cell_type": "code",
   "execution_count": 155,
   "metadata": {
    "collapsed": false
   },
   "outputs": [
    {
     "data": {
      "image/png": "[encoded data removed]",
      "text/plain": [
       "<matplotlib.figure.Figure at 0x7fa5b53f2ad0>"
      ]
     },
     "metadata": {},
     "output_type": "display_data"
    }
   ],
   "source": [
    "nVertices = 4\n",
    "minw = 1\n",
    "maxw = 3\n",
    "G = randomGrah2(nVertices,minw,maxw)\n",
    "pos = nx.spring_layout(G)\n",
    "nx.draw(G, pos)\n",
    "nx.draw_networkx_labels(G,pos)\n",
    "nx.draw_networkx_edge_labels(G,pos)\n",
    "plt.show()"
   ]
  },
  {
   "cell_type": "markdown",
   "metadata": {
    "collapsed": true
   },
   "source": [
    "    2. Adapte el algoritmo de Dijkstra para calcular todos los pares de rutas más cortas"
   ]
  },
  {
   "cell_type": "code",
   "execution_count": null,
   "metadata": {
    "collapsed": true
   },
   "outputs": [],
   "source": []
  },
  {
   "cell_type": "markdown",
   "metadata": {},
   "source": [
    "    3. Adapte el algoritmo de Bellman-Ford para calcular todos los pares de rutas más cortas"
   ]
  },
  {
   "cell_type": "code",
   "execution_count": null,
   "metadata": {
    "collapsed": true
   },
   "outputs": [],
   "source": []
  },
  {
   "cell_type": "markdown",
   "metadata": {},
   "source": [
    "    4. Implemente el algoritmo de BFS para calcular todos los pares de rutas más cortas (asumiendo que la longitud de la ruta esta dada por la cantidad de aristas que interviene más no por su peso)"
   ]
  },
  {
   "cell_type": "code",
   "execution_count": null,
   "metadata": {
    "collapsed": true
   },
   "outputs": [],
   "source": []
  },
  {
   "cell_type": "markdown",
   "metadata": {},
   "source": [
    "    5. Compare experimentalmente los algoritmos incluyendo Floyd-Warshall para grafos aleatorios densos ($\\psi$ cercano a 0) variando linealmente los tamaños de $n$"
   ]
  },
  {
   "cell_type": "code",
   "execution_count": null,
   "metadata": {
    "collapsed": true
   },
   "outputs": [],
   "source": []
  },
  {
   "cell_type": "markdown",
   "metadata": {},
   "source": [
    "    6. Compare experimentalmente los algoritmos incluyendo Floyd-Warshall para grafos aleatorios dispersos ($\\psi$ cercano a 1) variando linealmente los tamaños de $n$"
   ]
  },
  {
   "cell_type": "code",
   "execution_count": null,
   "metadata": {
    "collapsed": true
   },
   "outputs": [],
   "source": []
  }
 ],
 "metadata": {
  "kernelspec": {
   "display_name": "Python 2",
   "language": "python",
   "name": "python2"
  },
  "language_info": {
   "codemirror_mode": {
    "name": "ipython",
    "version": 2
   },
   "file_extension": ".py",
   "mimetype": "text/x-python",
   "name": "python",
   "nbconvert_exporter": "python",
   "pygments_lexer": "ipython2",
   "version": "2.7.13"
  }
 },
 "nbformat": 4,
 "nbformat_minor": 2
}
