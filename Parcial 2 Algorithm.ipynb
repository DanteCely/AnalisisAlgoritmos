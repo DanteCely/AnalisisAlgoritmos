{
 "cells": [
  {
   "cell_type": "markdown",
   "metadata": {},
   "source": [
    "<h1>Parcial 2</h1>\n",
    "<h4>Marvin Daniel Cely Báez</h4>\n",
    "<h4>Análisis de Algoritmo</h4>\n",
    "<h5>2017</h5>"
   ]
  },
  {
   "cell_type": "markdown",
   "metadata": {},
   "source": [
    "<h4>1. Es posible transformar algorithm en analysis sin usar operaciones “izquierda”. Escriba una secuencia\n",
    "de operaciones (de la misma forma que la tabla de ejemplo) que tenga el mismo costo que el mostrado\n",
    "en el ejemplo pero sin usar operaciones “izquierda”.</h4>"
   ]
  },
  {
   "cell_type": "markdown",
   "metadata": {},
   "source": [
    "<table>\n",
    "        <tr>\n",
    "         <td><strong>Operación</strong></td>\n",
    "         <td><strong>z</strong></td>\n",
    "         <td><strong>Costo</strong></td>\n",
    "         <td><strong>Total</strong></td>\n",
    "        </tr>\n",
    "        <tr>\n",
    "         <td>Inicializacion</td>\n",
    "         <td>anlgorithm</td>\n",
    "         <td>0</td>\n",
    "         <td>0</td>\n",
    "        </tr>\n",
    "        <tr>\n",
    "         <td>Insertar n</td>\n",
    "         <td>anlgorithm</td>\n",
    "         <td>3</td>\n",
    "         <td>3</td>\n",
    "        </tr>\n",
    "        <tr>\n",
    "         <td>Insertar a</td>\n",
    "         <td>analgorith</td>\n",
    "         <td>3</td>\n",
    "         <td>6</td>\n",
    "        </tr>\n",
    "        <tr>\n",
    "         <td>derecha</td>\n",
    "         <td>analgorith</td>\n",
    "         <td>0</td>\n",
    "         <td>6</td>\n",
    "        </tr>\n",
    "        <tr>\n",
    "         <td>Reemplazar (por y)</span></td>\n",
    "         <td>analyorith</td>\n",
    "         <td>4</td>\n",
    "         <td>10</td>\n",
    "        </tr>\n",
    "        <tr>\n",
    "         <td>reemplazar (por s)</span></td>\n",
    "         <td>analysrith</td>\n",
    "         <td>4</td>\n",
    "         <td>14</td>\n",
    "        </tr>\n",
    "        <tr>\n",
    "         <td>eliminar</td>\n",
    "         <td>analysithm</td>\n",
    "         <td>2</td>\n",
    "         <td>16</td>\n",
    "        </tr>\n",
    "        <tr>\n",
    "         <td>derecha</span></td>\n",
    "         <td>analysithm</td>\n",
    "         <td>0</td>\n",
    "         <td>16</td>\n",
    "        </tr>\n",
    "        <tr>\n",
    "         <td>Reemplazar (por s)</td>\n",
    "         <td>analysishm</td>\n",
    "         <td>4</td>\n",
    "         <td>20</td>\n",
    "        </tr>\n",
    "        <tr>\n",
    "         <td>eliminar</td>\n",
    "         <td>analysism</td>\n",
    "         <td>2</td>\n",
    "         <td>22</td>\n",
    "        </tr>\n",
    "        <tr>\n",
    "         <td>eliminar</td>\n",
    "         <td>analysis</td>\n",
    "         <td>2</td>\n",
    "         <td>24</td>\n",
    "        </tr>    \n",
    "    </table>"
   ]
  },
  {
   "cell_type": "markdown",
   "metadata": {},
   "source": [
    "<h4>2. Muestre que para dos cadenas x y y con distancia de edicion d(x, y), existe una secuencia S de operaciones\n",
    "que transforman x en y con costo d(x, y) donde S no contiene operaciones “izquierda”.</h4>"
   ]
  },
  {
   "cell_type": "code",
   "execution_count": 23,
   "metadata": {
    "collapsed": true
   },
   "outputs": [],
   "source": [
    "def existe(A,pos,i):\n",
    "    for k in range(pos,len(A)):\n",
    "        if i==A[k]:\n",
    "            return 1\n",
    "    return 0"
   ]
  },
  {
   "cell_type": "markdown",
   "metadata": {},
   "source": [
    "No se requiere un orden especifico las operaciones estan relacionados: \n",
    "(insertar-eliminar)-(derecha izquierda)-(remplazar)\n",
    "Para sustituir la operacion izquierda se usa los metodos insertar, remplazar y eliminar. La idea es verificar si el item existe en el vector Y si nio existe se remplaza si existe se pasa a la derecha, se inserta cuando el item faltante de Y no existe en Z.\n"
   ]
  },
  {
   "cell_type": "markdown",
   "metadata": {},
   "source": [
    "<h4>3. Muestre que el problema de calcular la distancia de edici´on d(x, y) presenta una subestructura ´optima.\n",
    "(Considere todos los sufijos de x y y)</h4>"
   ]
  },
  {
   "cell_type": "markdown",
   "metadata": {},
   "source": [
    "Hay dos casos, Z (Si-1) <d (x, zi-1) o C (Si-1)> d (x, zi-1). Si Z <d (x, zi-1), entonces podemos transformar x a zi-1 usando las operaciones Si-1 con menor costo que d (x, zi-1), lo cual es una contradicción. Si Z (Si-1)> d (x, zi-1), entonces podríamos reemplazar Si-1 por la secuencia de operaciones S que transforma x a i-1 con coste d (x, zi-1). Entonces la secuencia de operaciones S ← oi transforma x a y\n",
    "Con costo C (S ← oi).\n",
    "\n",
    "Z (S ← oi) = d (x, zi-1) + Z (oi)\n",
    "<Z (Si - 1) + C (oi)\n",
    "= Z (Si)\n",
    "= d (x, zi)\n",
    "\n",
    "El teorema es correcto ya que la edición presenta una subestructura óptima en d (x, zi) ."
   ]
  },
  {
   "cell_type": "markdown",
   "metadata": {},
   "source": [
    "<h4>4. Recursivamente defina el valor de la distancia de edici´on d(x, y) en terminos de los sufijos de las cadenas\n",
    "x y y. Se˜nale como la distancia de edici´on contiene sobrelapamiento de los subproblemas</h4>"
   ]
  },
  {
   "cell_type": "markdown",
   "metadata": {},
   "source": [
    "Valor (recurrencia) de $cost(i,j) = $ al minimo de\n",
    " \n",
    "costo$(eliminar x[i]) + cost(i + 1, j)$ si $i &lt; |x|$\n",
    " \n",
    "costo$(insertar y[j]) + cost(i, j + 1)$ si $j &lt; |y|$\n",
    " \n",
    "costo$(reemplazar x[i] \\rightarrow y[j]) + cost(i + 1, j + 1)$ si $i &lt; |x|$ & $j &lt; |y|$</ul>\n",
    " \n",
    "Caso Base: $cost(|x|,|y|) = 0$\n",
    " \n",
    "Para cada subproblema toma $O(1)$ en resolver"
   ]
  },
  {
   "cell_type": "markdown",
   "metadata": {},
   "source": [
    "<h4>5. Describa un algoritmo de programaci´on din´amica que calcule la distancia de edicion de x y y. (No use\n",
    "memorizaci´on) An´alise el tiempo de ejecuci´on y el espacio requeridos por su algoritmo.</h4>"
   ]
  },
  {
   "cell_type": "markdown",
   "metadata": {},
   "source": [
    "El algoritmo es tipo bottom-up de PD. Usando la matriz matriz (n + 1) × (m + 1), donde n y m son las longitudes de las cadenas. Se usa la función LevenshteinDistance que toma dos cadenas, str1 de longitud lenStr1, y str2 de longitud lenStr2, y calcula la distancia Levenshtein."
   ]
  },
  {
   "cell_type": "markdown",
   "metadata": {},
   "source": [
    "<h4>6. Implemente su algoritmo en Python, y publiquelo en un NoteBook donde lo pruebe para las cadenas:\n",
    "x = software engineering, y = computer science</h4>"
   ]
  },
  {
   "cell_type": "code",
   "execution_count": 35,
   "metadata": {
    "collapsed": true
   },
   "outputs": [],
   "source": [
    "import numpy as np"
   ]
  },
  {
   "cell_type": "code",
   "execution_count": 36,
   "metadata": {
    "collapsed": true
   },
   "outputs": [],
   "source": [
    "def d(X,Y):\n",
    "    a =  len(X)+1\n",
    "    b =  len(Y)+1\n",
    "    z = np.zeros((a, b))\n",
    "    \n",
    "    for i in range(0,len(X)+1):\n",
    "        z[i,0] = i * 3\n",
    "        \n",
    "    for j in range(0,len(Y)+1):\n",
    "        z[0,j] = j * 2\n",
    "        \n",
    "    for i in range(1, len(X)+1):\n",
    "        for j in range(1, len(Y)+1):\n",
    "            if X[i-1] == Y[j-1]:\n",
    "                z[i,j] = z[i-1,j-1]\n",
    "            else:\n",
    "                z[i,j] = min( z[i-1,j-1] + 4 , z[i-1,j] + 2 , z[i,j-1] + 3 )\n",
    "                \n",
    "    return z[len(X),len(Y)]"
   ]
  },
  {
   "cell_type": "code",
   "execution_count": 37,
   "metadata": {
    "collapsed": false
   },
   "outputs": [
    {
     "data": {
      "text/plain": [
       "47.0"
      ]
     },
     "execution_count": 37,
     "metadata": {},
     "output_type": "execute_result"
    }
   ],
   "source": [
    "X=\"software engineering\"\n",
    "Y=\"computer science\"\n",
    "d(X,Y)"
   ]
  },
  {
   "cell_type": "markdown",
   "metadata": {},
   "source": [
    "<h4>7. Ejecute su programa para las tres instancias proveidas en 3 archivos de texto plano, donde cada archivo\n",
    "contiene las siguientes cuatro l´ıneas:</h4>\n",
    "<ul>\n",
    "    <li>(a) El n´umero de caracteres m en la cadena x.</li>\n",
    "    <li>(b) La cadena x.</li>\n",
    "    <li>(c) El n´umero de caracteres n en la cadena y..</li>\n",
    "    <li>(d) La cadena y.</li>\n",
    "</ul>"
   ]
  },
  {
   "cell_type": "markdown",
   "metadata": {},
   "source": [
    "Texto 1"
   ]
  },
  {
   "cell_type": "code",
   "execution_count": null,
   "metadata": {
    "collapsed": false
   },
   "outputs": [
    {
     "data": {
      "text/plain": [
       "1813.0"
      ]
     },
     "execution_count": 38,
     "metadata": {},
     "output_type": "execute_result"
    }
   ],
   "source": [
    "X=\"In fairy-tales, witches always wear silly black hats and black cloaks, and they ride on broomsticks.  But this is not a fairy-tale. This is about Real Witches.  The most important thing you should know about Real Witches is this.  Listen very carefully.  Never forget what is coming next.  Real Witches dress in ordinary clothes and look very much like ordinary women. They live in ordinary houses and work in Ordinary Jobs.  That is why they are so hard to catch.  A Real Witch hates children with a red-hot sizzling hatred that is more sizzling and red-hot than any hatred you could possibly imagine.\"\n",
    "Y=\"Round about the caldron go; In the poison'd entrails throw.  Toad, that under cold stone, Days and nights has thirty-one; Swelter'd venom sleeping got, Boil thou first i' the charmed pot!  Double, double toil and trouble; Fire burn, and cauldron bubble.  Fillet of a fenny snake, In the caldron boil and bake; Eye of newt, and toe of frog, Wool of bat, and tongue of dog; Adder's fork, and blind-worm's sting, Lizard's leg, and howlet's wing; For a charm of pow'rful trouble, Like a hell-broth boil and bubble.  Double, double toil and trouble; Fire burn, and cauldron bubble.  Scale of dragon, tooth of wolf, Witches' mummy, maw and gulf Of the ravin'd salt-sea shark; Root of hemlock digg'd i' the dark.\"\n",
    "d(X,Y)"
   ]
  },
  {
   "cell_type": "markdown",
   "metadata": {},
   "source": [
    "Texto 2"
   ]
  },
  {
   "cell_type": "code",
   "execution_count": null,
   "metadata": {
    "collapsed": false
   },
   "outputs": [],
   "source": [
    "X=\"Macavity, Macavity, there's no one like Macavity, He's broken every  human law, he breaks the law of gravity.  His powers of levitation  would make a fakir stare, And when you reach the scene of crime -  Macavity's not there!  You may seek him in the basement, you may look  up in the air - But I tell you once and once again, Macavity's not there!  Macavity's a ginger cat, he's very tall and thin; You would know him if you saw him, for his eyes are sunken in.  His brow is deeply lined with thought, his head is highly domed; His coat is dusty from neglect, his whiskers are uncombed.  He sways his head from side to side, with movements like a snake; And when you think he's half asleep, he's always wide awake.\"\n",
    "Y=\"`Please would you tell me,' said Alice, a little timidly, for she was not quite sure whether it was good manners for her to speak first, `why your cat grins like that?' `It's a Cheshire cat,' said the Duchess, `and that's why. Pig!'  She said the last word with such sudden violence that Alice quite jumped; but she saw in another moment that it was addressed to the baby, and not to her, so she took courage, and went on again:  `I didn't know that Cheshire cats always grinned; in fact, I didn't know that cats could grin.'  `They all can,' said the Duchess; `and most of 'em do.'  `I don't know of any that do,' Alice said very politely, feeling quite pleased to have got into a conversation.\"\n",
    "d(X,Y)"
   ]
  },
  {
   "cell_type": "markdown",
   "metadata": {},
   "source": [
    "Texto 3"
   ]
  },
  {
   "cell_type": "code",
   "execution_count": 33,
   "metadata": {
    "collapsed": false
   },
   "outputs": [
    {
     "data": {
      "text/plain": [
       "1767.0"
      ]
     },
     "execution_count": 33,
     "metadata": {},
     "output_type": "execute_result"
    }
   ],
   "source": [
    "X=\"Old MacDonald had a farm, Ee i ee i o.  And on his farm he had some chicks, Ee i ee i o.  With a cluck-cluck here and a cluck-cluck there.  Here a cluck, there a cluck everywhere a cluck-cluck. Old MacDonald had a farm, Ee i ee i o.  Old MacDonald had a farm, Ee i ee i o.  And on his farm he had some cows, Ee i ee i o.  With a moo-moo here and a moo-moo there.  Here a moo, there a moo everywhere a moo-moo.  Old MacDonald had a farm, Ee i ee i o.\"\n",
    "Y=\"At one end of the big barn, on a sort of raised platform, Major was already ensconced on his bed of straw, under a lantern which hung from a beam. He was twelve years old and had lately grown rather stout, but he was still a majestic-looking pig, with a wise and benevolent appearance in spite of the fact that his tushes had never been cut.  Before long the other animals began to arrive and make themselves comfortable after their different fashions.  First came the three dogs, Bluebell, Jessie, and Pincher, and then the pigs, who settled down in the straw immediately in front of the platform.  The hens perched themselves on the window-sills, the pigeons fluttered up to the rafters, the sheep and cows lay down behind the pigs and began to chew the cud.\"\n",
    "d(X,Y)"
   ]
  },
  {
   "cell_type": "code",
   "execution_count": null,
   "metadata": {
    "collapsed": true
   },
   "outputs": [],
   "source": []
  }
 ],
 "metadata": {
  "anaconda-cloud": {},
  "kernelspec": {
   "display_name": "Python [default]",
   "language": "python",
   "name": "python2"
  },
  "language_info": {
   "codemirror_mode": {
    "name": "ipython",
    "version": 2
   },
   "file_extension": ".py",
   "mimetype": "text/x-python",
   "name": "python",
   "nbconvert_exporter": "python",
   "pygments_lexer": "ipython2",
   "version": "2.7.12"
  }
 },
 "nbformat": 4,
 "nbformat_minor": 1
}
