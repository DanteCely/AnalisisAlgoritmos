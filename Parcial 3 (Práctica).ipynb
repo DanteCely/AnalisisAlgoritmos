{
 "cells": [
  {
   "cell_type": "code",
   "execution_count": 121,
   "metadata": {
    "collapsed": true
   },
   "outputs": [],
   "source": [
    "import numpy as np\n",
    "import math\n",
    "%matplotlib inline\n",
    "from matplotlib import pyplot as plt\n",
    "from matplotlib.path import Path\n",
    "from matplotlib.patches import PathPatch"
   ]
  },
  {
   "cell_type": "markdown",
   "metadata": {},
   "source": [
    "Describa un algoritmo que determine en tiempo O(n**2 lg n) si existen tres puntos colineales de un\n",
    "conjunto de n puntos dados."
   ]
  },
  {
   "cell_type": "code",
   "execution_count": 122,
   "metadata": {
    "collapsed": false
   },
   "outputs": [],
   "source": [
    "def pendiente(p,q):\n",
    "    dy = p[1]-q[1]\n",
    "    dx = p[0]-q[0]\n",
    "    if dx == 0:\n",
    "        return 0\n",
    "    else:\n",
    "        return ((dy)*1.0)/((dx)*1.0)\n",
    "\n",
    "def son_Colineales(p1,p2,p3):\n",
    "    recta1 = pendiente(p1,p2)\n",
    "    recta2 = pendiente(p2,p3)\n",
    "    recta3 = pendiente(p1,p3)\n",
    "    if recta1 == recta2 and recta2 == recta3 and recta1 == recta3:\n",
    "        return True\n",
    "    else:\n",
    "        return False"
   ]
  },
  {
   "cell_type": "code",
   "execution_count": 123,
   "metadata": {
    "collapsed": false
   },
   "outputs": [],
   "source": [
    "#Tomado de: http://edupython.blogspot.com.co/2016/06/combinaciones-permutaciones-y-otras.html\n",
    "def potencia(c):\n",
    "    \"\"\"\n",
    "       Calcula y devuelve el conjunto potencia del \n",
    "       conjunto c.\n",
    "    \"\"\"\n",
    "    if len(c) == 0:\n",
    "        return [[]]\n",
    "    r = potencia(c[:-1])\n",
    "    return r + [s + [c[-1]] for s in r]\n",
    "\n",
    "def combinaciones(c, n):\n",
    "    Elemento = []\n",
    "    for s in potencia(c):\n",
    "        if len(s) == n:\n",
    "            if son_Colineales(s[n-1],s[n-2],s[n-3]):\n",
    "                Elemento.append(s)\n",
    "    return Elemento"
   ]
  },
  {
   "cell_type": "code",
   "execution_count": 127,
   "metadata": {
    "collapsed": false
   },
   "outputs": [
    {
     "name": "stdout",
     "output_type": "stream",
     "text": [
      "los puntos colineales son\n",
      "Punto: [(2, 4), (7, 4), (6, 4)]\n",
      "Punto: [(4, 2), (7, 5), (6, 4)]\n",
      "Punto: [(5, 0), (4, 2), (2, 6)]\n"
     ]
    },
    {
     "data": {
      "image/png": "[encoded data removed]",
      "text/plain": [
       "<matplotlib.figure.Figure at 0x7f17fc1d7150>"
      ]
     },
     "metadata": {},
     "output_type": "display_data"
    }
   ],
   "source": [
    "n = 10\n",
    "x_coord = np.random.randint(n, size=n)\n",
    "y_coord = np.random.randint(n, size=n)\n",
    "# Make pairs\n",
    "points = zip(x_coord,y_coord)\n",
    "\n",
    "colineal = combinaciones(points,3)\n",
    "\n",
    "if len(colineal) > 0:    \n",
    "    # Plot points and convex hull\n",
    "    print \"los puntos colineales son\"\n",
    "    for i in colineal:\n",
    "        print \"Punto:\",i\n",
    "    plt.plot(x_coord, y_coord,'bo')\n",
    "    plt.axis([-0.0, n+0.5, -0.0, n+0.5])\n",
    "    plt.show()\n",
    "else:\n",
    "    print \"No hay Puntos Colineales\""
   ]
  },
  {
   "cell_type": "markdown",
   "metadata": {},
   "source": [
    "Dise˜ne un algoritmo que en tiempo O(n lg n) pueda determinar si un poligono definido por una\n",
    "secuencia de n puntos es simple (sus segmentos no se intersectan entre si)."
   ]
  },
  {
   "cell_type": "code",
   "execution_count": null,
   "metadata": {
    "collapsed": true
   },
   "outputs": [],
   "source": []
  }
 ],
 "metadata": {
  "kernelspec": {
   "display_name": "Python 2",
   "language": "python",
   "name": "python2"
  },
  "language_info": {
   "codemirror_mode": {
    "name": "ipython",
    "version": 2
   },
   "file_extension": ".py",
   "mimetype": "text/x-python",
   "name": "python",
   "nbconvert_exporter": "python",
   "pygments_lexer": "ipython2",
   "version": "2.7.13"
  }
 },
 "nbformat": 4,
 "nbformat_minor": 2
}
