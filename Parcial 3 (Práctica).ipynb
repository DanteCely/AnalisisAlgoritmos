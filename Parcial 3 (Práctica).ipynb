{
 "cells": [
  {
   "cell_type": "markdown",
   "metadata": {},
   "source": [
    "# Parcial 3 (Práctico)"
   ]
  },
  {
   "cell_type": "markdown",
   "metadata": {},
   "source": [
    "Marvin Daniel Cely Báez"
   ]
  },
  {
   "cell_type": "code",
   "execution_count": 121,
   "metadata": {
    "collapsed": true
   },
   "outputs": [],
   "source": [
    "import numpy as np\n",
    "import math\n",
    "%matplotlib inline\n",
    "from matplotlib import pyplot as plt\n",
    "from matplotlib.path import Path\n",
    "from matplotlib.patches import PathPatch"
   ]
  },
  {
   "cell_type": "markdown",
   "metadata": {},
   "source": [
    "Describa un algoritmo que determine en tiempo O(n**2 lg n) si existen tres puntos colineales de un\n",
    "conjunto de n puntos dados."
   ]
  },
  {
   "cell_type": "code",
   "execution_count": 122,
   "metadata": {
    "collapsed": false
   },
   "outputs": [],
   "source": [
    "def pendiente(p,q):\n",
    "    dy = p[1]-q[1]\n",
    "    dx = p[0]-q[0]\n",
    "    if dx == 0:\n",
    "        return 0\n",
    "    else:\n",
    "        return ((dy)*1.0)/((dx)*1.0)\n",
    "\n",
    "def son_Colineales(p1,p2,p3):\n",
    "    recta1 = pendiente(p1,p2)\n",
    "    recta2 = pendiente(p2,p3)\n",
    "    recta3 = pendiente(p1,p3)\n",
    "    if recta1 == recta2 and recta2 == recta3 and recta1 == recta3:\n",
    "        return True\n",
    "    else:\n",
    "        return False"
   ]
  },
  {
   "cell_type": "code",
   "execution_count": 123,
   "metadata": {
    "collapsed": false
   },
   "outputs": [],
   "source": [
    "#Tomado de: http://edupython.blogspot.com.co/2016/06/combinaciones-permutaciones-y-otras.html\n",
    "def potencia(c):\n",
    "    \"\"\"\n",
    "       Calcula y devuelve el conjunto potencia del \n",
    "       conjunto c.\n",
    "    \"\"\"\n",
    "    if len(c) == 0:\n",
    "        return [[]]\n",
    "    r = potencia(c[:-1])\n",
    "    return r + [s + [c[-1]] for s in r]\n",
    "\n",
    "def combinaciones(c, n):\n",
    "    Elemento = []\n",
    "    for s in potencia(c):\n",
    "        if len(s) == n:\n",
    "            if son_Colineales(s[n-1],s[n-2],s[n-3]):\n",
    "                Elemento.append(s)\n",
    "    return Elemento"
   ]
  },
  {
   "cell_type": "code",
   "execution_count": 127,
   "metadata": {
    "collapsed": false
   },
   "outputs": [
    {
     "name": "stdout",
     "output_type": "stream",
     "text": [
      "los puntos colineales son\n",
      "Punto: [(2, 4), (7, 4), (6, 4)]\n",
      "Punto: [(4, 2), (7, 5), (6, 4)]\n",
      "Punto: [(5, 0), (4, 2), (2, 6)]\n"
     ]
    },
    {
     "data": {
      "image/png": "[encoded data removed]",
      "text/plain": [
       "<matplotlib.figure.Figure at 0x7f17fc1d7150>"
      ]
     },
     "metadata": {},
     "output_type": "display_data"
    }
   ],
   "source": [
    "n = 10\n",
    "x_coord = np.random.randint(n, size=n)\n",
    "y_coord = np.random.randint(n, size=n)\n",
    "# Make pairs\n",
    "points = zip(x_coord,y_coord)\n",
    "\n",
    "#points: Conjunto de Punto\n",
    "#3: Conbinacion de esos conjuntos de puntos, en este caso son 3\n",
    "colineal = combinaciones(points,3)\n",
    "\n",
    "if len(colineal) > 0:    \n",
    "    # Plot points and convex hull\n",
    "    print \"los puntos colineales son\"\n",
    "    for i in colineal:\n",
    "        print \"Punto:\",i\n",
    "    plt.plot(x_coord, y_coord,'bo')\n",
    "    plt.axis([-0.0, n+0.5, -0.0, n+0.5])\n",
    "    plt.show()\n",
    "else:\n",
    "    print \"No hay Puntos Colineales\""
   ]
  },
  {
   "cell_type": "markdown",
   "metadata": {},
   "source": [
    "Dise˜ne un algoritmo que en tiempo O(n lg n) pueda determinar si un poligono definido por una\n",
    "secuencia de n puntos es simple (sus segmentos no se intersectan entre si)."
   ]
  },
  {
   "cell_type": "code",
   "execution_count": 245,
   "metadata": {
    "collapsed": false
   },
   "outputs": [],
   "source": [
    "#Eplicación por: http://pier.guillen.com.mx/algorithms/07-geometricos/07.4-interseccion_segmentos.htm\n",
    "\"\"\" (p1,p2): Puntos de la Recta\n",
    "    (p3,p4): Puntos Arbitrarios\"\"\"\n",
    "def mismoLado(p1,p2,p3,p4):\n",
    "    dx = p2[0] - p1[0]\n",
    "    dx1 = p3[0] - p1[0]\n",
    "    dx2 = p4[0] - p2[0]\n",
    "    dy = p2[1] - p1[1]\n",
    "    dy1 = p3[1] - p1[1]\n",
    "    dy2 = p4[1] - p2[1]\n",
    "    return (dx*dy1 - dy*dx1)*(dx*dy2 - dy*dx2)\n",
    "\n",
    "def entre(x1,x2,x3):\n",
    "    return ((x1-x3)*(x2-x3) <= 0)\n",
    "\n",
    "def dentro(p1,p2,p3,p4):\n",
    "    return entre(p1[0],p2[0],p3[0]) and entre(p1[1],p2[1],p3[1]) or entre(p1[0],p2[0],p4[0]) and entre(p1[1],p2[1],p4[1])\n",
    "\n",
    "def intersecta(p1,p2,p3,p4):\n",
    "    int1 = mismoLado(p1,p2,p3,p4)\n",
    "    int2 = mismoLado(p3,p4,p1,p2)\n",
    "    return ((int1<0) and (int2<0)) or (int1==0) and (int2==0) and dentro(p1,p2,p3,p4)"
   ]
  },
  {
   "cell_type": "code",
   "execution_count": 246,
   "metadata": {
    "collapsed": false
   },
   "outputs": [
    {
     "data": {
      "text/plain": [
       "True"
      ]
     },
     "execution_count": 246,
     "metadata": {},
     "output_type": "execute_result"
    }
   ],
   "source": [
    "#Prueba de que intersecta funciona\n",
    "p1 = [1,1]\n",
    "p2 = [10,10]\n",
    "p3 = [1,2]\n",
    "p4 = [10,2]\n",
    "intersecta(p1,p2,p3,p4)"
   ]
  },
  {
   "cell_type": "code",
   "execution_count": 247,
   "metadata": {
    "collapsed": true
   },
   "outputs": [],
   "source": [
    "def potencia2(c):\n",
    "    \"\"\"Calcula y devuelve el conjunto potencia del \n",
    "       conjunto c.\n",
    "    \"\"\"\n",
    "    if len(c) == 0:\n",
    "        return [[]]\n",
    "    r = potencia(c[:-1])\n",
    "    return r + [s + [c[-1]] for s in r]\n",
    "\n",
    "def combinaciones2(c, n):\n",
    "    Elemento = []\n",
    "    for s in potencia2(c):\n",
    "        if len(s) == n:\n",
    "                Elemento.append(s)\n",
    "    return Elemento"
   ]
  },
  {
   "cell_type": "code",
   "execution_count": 254,
   "metadata": {
    "collapsed": false
   },
   "outputs": [],
   "source": [
    "def es_Simple(polygon):\n",
    "    #Generar segmentos\n",
    "    segmentos = []\n",
    "    tam = len(polygon)-1\n",
    "    for i in range(tam):\n",
    "        segmentos.append([polygon[i],polygon[i+1]])\n",
    "    segmentos.append([polygon[tam],polygon[0]])\n",
    "    c = combinaciones2(segmentos, 2)\n",
    "    for i in c:\n",
    "        p1 = i[0][0]\n",
    "        p2 = i[0][1]\n",
    "        p3 = i[1][0]\n",
    "        p4 = i[1][1]\n",
    "        if p2 != p3 and p1 != p4:\n",
    "            if intersecta(p1,p2,p3,p4):\n",
    "                return False\n",
    "    return True\n"
   ]
  },
  {
   "cell_type": "code",
   "execution_count": 259,
   "metadata": {
    "collapsed": false
   },
   "outputs": [
    {
     "name": "stdout",
     "output_type": "stream",
     "text": [
      "El poligono 1  no es Simple\n",
      "El poligono 2  es Simple\n",
      "El poligono 3  es Simple\n"
     ]
    },
    {
     "data": {
      "image/png": "[encoded data removed]",
      "text/plain": [
       "<matplotlib.figure.Figure at 0x7f17fe8d3250>"
      ]
     },
     "metadata": {},
     "output_type": "display_data"
    }
   ],
   "source": [
    "import numpy as np\n",
    "\n",
    "import matplotlib.pyplot as plt\n",
    "import matplotlib\n",
    "from matplotlib.patches import Polygon\n",
    "from matplotlib.collections import PatchCollection\n",
    "\n",
    "polygon1 = [[0.1,0.9],[0.1,0.3],[0.3,0.4],[0.3,0.5],[0.0,0.6]]\n",
    "polygon2 = [[0.5,0.1],[0.6,0.3],[0.55,0.3],[0.55,0.4],[0.3,0.2]]\n",
    "polygon3 = [[0.5,0.6],[0.5,0.7],[0.7,0.8],[0.66,0.5],[0.8,0.4],[0.65,0.4],[0.65,0.3]]\n",
    "\n",
    "fig, ax = plt.subplots()\n",
    "patches = []\n",
    "\n",
    "polygon = Polygon(polygon1, True)\n",
    "patches.append(polygon)\n",
    "polygon = Polygon(polygon2, True)\n",
    "patches.append(polygon)\n",
    "polygon = Polygon(polygon3, True)\n",
    "patches.append(polygon)\n",
    "\n",
    "otherPatches = []\n",
    "otherPatches.append(polygon1)\n",
    "otherPatches.append(polygon2)\n",
    "otherPatches.append(polygon3)\n",
    "\n",
    "i = 0\n",
    "for pol in otherPatches:\n",
    "    i=i+1\n",
    "    if es_Simple(pol):\n",
    "        print \"El poligono\" ,i, \" es Simple\" \n",
    "    else:\n",
    "        print \"El poligono\" ,i, \" no es Simple\"\n",
    "        \n",
    "p = PatchCollection(patches, cmap=matplotlib.cm.jet, alpha=0.4)\n",
    "\n",
    "colors = 100*np.random.rand(len(patches))\n",
    "p.set_array(np.array(colors))\n",
    "\n",
    "ax.add_collection(p)\n",
    "\n",
    "plt.show()"
   ]
  },
  {
   "cell_type": "markdown",
   "metadata": {},
   "source": [
    "Fin."
   ]
  }
 ],
 "metadata": {
  "kernelspec": {
   "display_name": "Python 2",
   "language": "python",
   "name": "python2"
  },
  "language_info": {
   "codemirror_mode": {
    "name": "ipython",
    "version": 2
   },
   "file_extension": ".py",
   "mimetype": "text/x-python",
   "name": "python",
   "nbconvert_exporter": "python",
   "pygments_lexer": "ipython2",
   "version": "2.7.13"
  }
 },
 "nbformat": 4,
 "nbformat_minor": 2
}
